{
 "cells": [
  {
   "cell_type": "markdown",
   "metadata": {},
   "source": [
    "-------------\n",
    "# DICOM Dataset EDA"
   ]
  },
  {
   "cell_type": "markdown",
   "metadata": {},
   "source": [
    "We will discuss some of the methods that could be applied in dataset analysis, when you are dealing with large multitude of 3D volumes. A lot of the same principles could be applied here as were used with individual volume EDA.\n",
    "\n",
    "In this case we will look at a collection of images and try to figure out what we are looking at. We will look at some of the techniques that might help us collect relevant meta information."
   ]
  },
  {
   "cell_type": "code",
   "execution_count": 3,
   "metadata": {},
   "outputs": [],
   "source": [
    "import pydicom\n",
    "import matplotlib.pyplot as plt\n",
    "import matplotlib.cm as cm\n",
    "import numpy.ma as ma\n",
    "import numpy as np\n",
    "import os"
   ]
  },
  {
   "cell_type": "markdown",
   "metadata": {},
   "source": [
    "Let us load all series metadata, but not pixels"
   ]
  },
  {
   "cell_type": "code",
   "execution_count": 1,
   "metadata": {},
   "outputs": [
    {
     "name": "stdout",
     "output_type": "stream",
     "text": [
      " data.tar.gz  'DICOM Dataset EDA tutorial.ipynb'\r\n"
     ]
    }
   ],
   "source": [
    "!ls"
   ]
  },
  {
   "cell_type": "code",
   "execution_count": null,
   "metadata": {},
   "outputs": [],
   "source": [
    "!tar -xzf data.tar.gz"
   ]
  },
  {
   "cell_type": "code",
   "execution_count": 4,
   "metadata": {
    "scrolled": false
   },
   "outputs": [
    {
     "name": "stdout",
     "output_type": "stream",
     "text": [
      "data/PGBM-008/03-31-1992-MR RCBV SEQUENCE FH-67056\n",
      "data/PGBM-008/03-31-1992-MR RCBV SEQUENCE FH-67056/36530-ADCreg-00166\n",
      "data/PGBM-008/03-31-1992-MR RCBV SEQUENCE FH-67056/37758-T2reg-76823\n",
      "data/PGBM-008/03-31-1992-MR RCBV SEQUENCE FH-67056/35804-dT1-70430\n",
      "data/PGBM-008/03-31-1992-MR RCBV SEQUENCE FH-67056/40845-T1prereg-53096\n",
      "data/PGBM-008/03-31-1992-MR RCBV SEQUENCE FH-67056/36535-nRCBVreg-59794\n",
      "data/PGBM-008/03-31-1992-MR RCBV SEQUENCE FH-67056/36533-nCBFreg-11566\n",
      "data/PGBM-008/03-31-1992-MR RCBV SEQUENCE FH-67056/36529-FLAIRreg-88719\n",
      "data/PGBM-008/03-31-1992-MR RCBV SEQUENCE FH-67056/36534-sRCBVreg-83052\n",
      "data/PGBM-008/03-31-1992-MR RCBV SEQUENCE FH-67056/5395-MaskTumor-37344\n",
      "data/PGBM-008/06-10-1993-FH-HEADBrain Protocols-26857/5355-MaskTumor-76568\n",
      "data/PGBM-008/06-10-1993-FH-HEADBrain Protocols-26857/36538-ADCreg-86244\n",
      "data/PGBM-008/06-10-1993-FH-HEADBrain Protocols-26857/36543-nCBFreg-41613\n",
      "data/PGBM-008/06-10-1993-FH-HEADBrain Protocols-26857/36541-sRCBVreg-18649\n",
      "data/PGBM-008/06-10-1993-FH-HEADBrain Protocols-26857/34919-T1prereg-57719\n",
      "data/PGBM-008/06-10-1993-FH-HEADBrain Protocols-26857/13-T1post-21069\n",
      "data/PGBM-008/06-10-1993-FH-HEADBrain Protocols-26857/29911-dT1-06426\n",
      "data/PGBM-008/06-10-1993-FH-HEADBrain Protocols-26857/37756-T2reg-33794\n",
      "data/PGBM-008/06-10-1993-FH-HEADBrain Protocols-26857/36542-nRCBVreg-64402\n",
      "data/PGBM-008/06-10-1993-FH-HEADBrain Protocols-26857/36537-FLAIRreg-18447\n",
      "data/PGBM-001/04-02-1992-FH-HEADBrain Protocols-79896/11-T1post-80644\n",
      "data/PGBM-001/04-02-1992-FH-HEADBrain Protocols-79896/5388-MaskTumor-63335\n",
      "data/PGBM-001/04-02-1992-FH-HEADBrain Protocols-79896/35623-FLAIRreg-79237\n",
      "data/PGBM-001/04-02-1992-FH-HEADBrain Protocols-79896/35629-nRCBVreg-30349\n",
      "data/PGBM-001/04-02-1992-FH-HEADBrain Protocols-79896/29904-dT1-04743\n",
      "data/PGBM-001/04-02-1992-FH-HEADBrain Protocols-79896/34907-T1prereg-43695\n",
      "data/PGBM-001/04-02-1992-FH-HEADBrain Protocols-79896/35628-sRCBVreg-27603\n",
      "data/PGBM-001/04-02-1992-FH-HEADBrain Protocols-79896/35630-nCBFreg-63461\n",
      "data/PGBM-001/04-02-1992-FH-HEADBrain Protocols-79896/37908-T2reg-21119\n",
      "data/PGBM-001/04-02-1992-FH-HEADBrain Protocols-79896/35624-ADCreg-47789\n",
      "data/PGBM-001/11-19-1991-FH-HEADBrain Protocols-40993/35633-nCBFreg-34937\n",
      "data/PGBM-001/11-19-1991-FH-HEADBrain Protocols-40993/35635-sRCBVreg-60307\n",
      "data/PGBM-001/11-19-1991-FH-HEADBrain Protocols-40993/37910-T2reg-84816\n",
      "data/PGBM-001/11-19-1991-FH-HEADBrain Protocols-40993/11-T1post-03326\n",
      "data/PGBM-001/11-19-1991-FH-HEADBrain Protocols-40993/35637-FLAIRreg-16386\n",
      "data/PGBM-001/11-19-1991-FH-HEADBrain Protocols-40993/35634-nRCBVreg-43858\n",
      "data/PGBM-001/11-19-1991-FH-HEADBrain Protocols-40993/35638-ADCreg-71556\n",
      "data/PGBM-001/11-19-1991-FH-HEADBrain Protocols-40993/10008-T1prereg-91470\n",
      "data/PGBM-001/11-19-1991-FH-HEADBrain Protocols-40993/35004-dT1-72693\n",
      "data/PGBM-001/11-19-1991-FH-HEADBrain Protocols-40993/5364-MaskTumor-94345\n",
      "data/PGBM-003/10-17-1995-MR RCBV SEQUENCE-57198/36472-ADCreg-24389\n",
      "data/PGBM-003/10-17-1995-MR RCBV SEQUENCE-57198/13-T1post-56086\n",
      "data/PGBM-003/10-17-1995-MR RCBV SEQUENCE-57198/37868-T2reg-82200\n",
      "data/PGBM-003/10-17-1995-MR RCBV SEQUENCE-57198/5362-MaskTumor-36422\n",
      "data/PGBM-003/10-17-1995-MR RCBV SEQUENCE-57198/36477-nRCBVreg-15344\n",
      "data/PGBM-003/10-17-1995-MR RCBV SEQUENCE-57198/36476-sRCBVreg-54964\n",
      "data/PGBM-003/10-17-1995-MR RCBV SEQUENCE-57198/36475-nCBFreg-32454\n",
      "data/PGBM-003/10-17-1995-MR RCBV SEQUENCE-57198/36471-FLAIRreg-02052\n",
      "data/PGBM-003/10-17-1995-MR RCBV SEQUENCE-57198/29907-dT1-83229\n",
      "data/PGBM-003/10-17-1995-MR RCBV SEQUENCE-57198/34911-T1prereg-46949\n",
      "data/PGBM-003/03-29-1995-Mr Rcbv Sequence-Fh-44184/5377-MaskTumor-78540\n",
      "data/PGBM-003/03-29-1995-Mr Rcbv Sequence-Fh-44184/21400-dT1-11016\n",
      "data/PGBM-003/03-29-1995-Mr Rcbv Sequence-Fh-44184/26401-T1prereg-52906\n",
      "data/PGBM-003/03-29-1995-Mr Rcbv Sequence-Fh-44184/26405-nCBFreg-43819\n",
      "data/PGBM-003/03-29-1995-Mr Rcbv Sequence-Fh-44184/36468-FLAIRreg-58706\n",
      "data/PGBM-003/03-29-1995-Mr Rcbv Sequence-Fh-44184/26406-sRCBVreg-32571\n",
      "data/PGBM-003/03-29-1995-Mr Rcbv Sequence-Fh-44184/36469-ADCreg-50012\n",
      "data/PGBM-003/03-29-1995-Mr Rcbv Sequence-Fh-44184/11-T1post-18670\n",
      "data/PGBM-003/03-29-1995-Mr Rcbv Sequence-Fh-44184/26407-nRCBVreg-23006\n",
      "data/PGBM-003/03-29-1995-Mr Rcbv Sequence-Fh-44184/37870-T2reg-78532\n",
      "data/PGBM-006/12-10-1996-MR RCBV SEQUENCE-10783/5355-MaskTumor-16494\n",
      "data/PGBM-006/12-10-1996-MR RCBV SEQUENCE-10783/19431-T1prereg-31693\n",
      "data/PGBM-006/12-10-1996-MR RCBV SEQUENCE-10783/37641-nCBFreg-94253\n",
      "data/PGBM-006/12-10-1996-MR RCBV SEQUENCE-10783/12-T1post-03514\n",
      "data/PGBM-006/12-10-1996-MR RCBV SEQUENCE-10783/14404-dT1-67274\n",
      "data/PGBM-006/12-10-1996-MR RCBV SEQUENCE-10783/37982-T2reg-54614\n",
      "data/PGBM-006/12-10-1996-MR RCBV SEQUENCE-10783/37636-ADCreg-12679\n",
      "data/PGBM-006/12-10-1996-MR RCBV SEQUENCE-10783/37639-sRCBVreg-06894\n",
      "data/PGBM-006/12-10-1996-MR RCBV SEQUENCE-10783/37635-FLAIRreg-45187\n",
      "data/PGBM-006/12-10-1996-MR RCBV SEQUENCE-10783/37640-nRCBVreg-05748\n",
      "data/PGBM-006/02-11-1997-MR RCBV SEQUENCE-02981/37628-nCBFreg-69444\n",
      "data/PGBM-006/02-11-1997-MR RCBV SEQUENCE-02981/37624-ADCreg-73759\n",
      "data/PGBM-006/02-11-1997-MR RCBV SEQUENCE-02981/37627-nRCBVreg-65746\n",
      "data/PGBM-006/02-11-1997-MR RCBV SEQUENCE-02981/37501-T1prereg-49535\n",
      "data/PGBM-006/02-11-1997-MR RCBV SEQUENCE-02981/5361-MaskTumor-62406\n",
      "data/PGBM-006/02-11-1997-MR RCBV SEQUENCE-02981/37629-sRCBVreg-45227\n"
     ]
    }
   ],
   "source": [
    "for dp, _, files in os.walk('data'):\n",
    "    if len(files) == 0: \n",
    "        pass\n",
    "    else:\n",
    "        print(dp)"
   ]
  },
  {
   "cell_type": "code",
   "execution_count": 5,
   "metadata": {},
   "outputs": [],
   "source": [
    "path = r\"data\"\n",
    "series = np.array([[(os.path.join(dp, f), pydicom.dcmread(os.path.join(dp, f), stop_before_pixels = True)) \n",
    "                    for f in files]\n",
    "                   \n",
    "                   for dp,_,files in os.walk(path) if len(files) != 0])\n",
    "\n"
   ]
  },
  {
   "cell_type": "code",
   "execution_count": 6,
   "metadata": {
    "scrolled": false
   },
   "outputs": [
    {
     "data": {
      "text/plain": [
       "array(['data/PGBM-008/03-31-1992-MR RCBV SEQUENCE FH-67056/000009.dcm',\n",
       "       (0008, 0005) Specific Character Set              CS: 'ISO_IR 100'\n",
       "(0008, 0008) Image Type                          CS: ['ORIGINAL', 'PRIMARY', 'OTHER']\n",
       "(0008, 0016) SOP Class UID                       UI: MR Image Storage\n",
       "(0008, 0018) SOP Instance UID                    UI: 1.3.6.1.4.1.14519.5.2.1.4429.7055.177101574016560679582170302823\n",
       "(0008, 0020) Study Date                          DA: '19920331'\n",
       "(0008, 0021) Series Date                         DA: '19920331'\n",
       "(0008, 0022) Acquisition Date                    DA: '19920331'\n",
       "(0008, 0023) Content Date                        DA: '19920331'\n",
       "(0008, 0030) Study Time                          TM: '124056'\n",
       "(0008, 0031) Series Time                         TM: '131542'\n",
       "(0008, 0032) Acquisition Time                    TM: '131542'\n",
       "(0008, 0033) Content Time                        TM: '131542'\n",
       "(0008, 0050) Accession Number                    SH: '2907810325500861'\n",
       "(0008, 0060) Modality                            CS: 'MR'\n",
       "(0008, 0070) Manufacturer                        LO: 'GE MEDICAL SYSTEMS'\n",
       "(0008, 0090) Referring Physician's Name          PN: ''\n",
       "(0008, 1030) Study Description                   LO: 'MR RCBV SEQUENCE FH'\n",
       "(0008, 103e) Series Description                  LO: 'T1post'\n",
       "(0008, 1090) Manufacturer's Model Name           LO: 'DISCOVERY MR750'\n",
       "(0008, 1111)  Referenced Performed Procedure Step Sequence   1 item(s) ---- \n",
       "   (0008, 1150) Referenced SOP Class UID            UI: Modality Performed Procedure Step SOP Class\n",
       "   (0008, 1155) Referenced SOP Instance UID         UI: 1.3.6.1.4.1.14519.5.2.1.4429.7055.853267219607033025558318881710\n",
       "   ---------\n",
       "(0008, 1140)  Referenced Image Sequence   2 item(s) ---- \n",
       "   (0008, 1150) Referenced SOP Class UID            UI: MR Image Storage\n",
       "   (0008, 1155) Referenced SOP Instance UID         UI: 1.3.6.1.4.1.14519.5.2.1.4429.7055.195637995418579015859247554876\n",
       "   ---------\n",
       "   (0008, 1150) Referenced SOP Class UID            UI: MR Image Storage\n",
       "   (0008, 1155) Referenced SOP Instance UID         UI: 1.3.6.1.4.1.14519.5.2.1.4429.7055.215233187047776924451743410308\n",
       "   ---------\n",
       "(0009, 0010) Private Creator                     LO: 'GEMS_IDEN_01'\n",
       "(0009, 1002) [Suite id]                          SH: 'MR02'\n",
       "(0009, 1004) [Product id]                        SH: 'SIGNA'\n",
       "(0009, 10e3) [Equipment UID]                     UI: 1.3.6.1.4.1.14519.5.2.1.4429.7055.169203633127928812137237615053\n",
       "(0010, 0010) Patient's Name                      PN: 'PGBM-008'\n",
       "(0010, 0020) Patient ID                          LO: 'PGBM-008'\n",
       "(0010, 0030) Patient's Birth Date                DA: ''\n",
       "(0010, 0040) Patient's Sex                       CS: 'M'\n",
       "(0010, 1010) Patient's Age                       AS: '051Y'\n",
       "(0010, 1020) Patient's Size                      DS: \"1.855\"\n",
       "(0010, 1030) Patient's Weight                    DS: \"103.87\"\n",
       "(0010, 21b0) Additional Patient History          LT: ''\n",
       "(0012, 0062) Patient Identity Removed            CS: 'YES'\n",
       "(0012, 0063) De-identification Method            LO: 'Per DICOM PS 3.15 AnnexE. Details in 0012,0064'\n",
       "(0012, 0064)  De-identification Method Code Sequence   8 item(s) ---- \n",
       "   (0008, 0100) Code Value                          SH: '113100'\n",
       "   (0008, 0102) Coding Scheme Designator            SH: 'DCM'\n",
       "   (0008, 0104) Code Meaning                        LO: 'Basic Application Confidentiality Profile'\n",
       "   ---------\n",
       "   (0008, 0100) Code Value                          SH: '113101'\n",
       "   (0008, 0102) Coding Scheme Designator            SH: 'DCM'\n",
       "   (0008, 0104) Code Meaning                        LO: 'Clean Pixel Data Option'\n",
       "   ---------\n",
       "   (0008, 0100) Code Value                          SH: '113104'\n",
       "   (0008, 0102) Coding Scheme Designator            SH: 'DCM'\n",
       "   (0008, 0104) Code Meaning                        LO: 'Clean Structured Content Option'\n",
       "   ---------\n",
       "   (0008, 0100) Code Value                          SH: '113105'\n",
       "   (0008, 0102) Coding Scheme Designator            SH: 'DCM'\n",
       "   (0008, 0104) Code Meaning                        LO: 'Clean Descriptors Option'\n",
       "   ---------\n",
       "   (0008, 0100) Code Value                          SH: '113107'\n",
       "   (0008, 0102) Coding Scheme Designator            SH: 'DCM'\n",
       "   (0008, 0104) Code Meaning                        LO: 'Retain Longitudinal Temporal Information Modified Dates Option'\n",
       "   ---------\n",
       "   (0008, 0100) Code Value                          SH: '113108'\n",
       "   (0008, 0102) Coding Scheme Designator            SH: 'DCM'\n",
       "   (0008, 0104) Code Meaning                        LO: 'Retain Patient Characteristics Option'\n",
       "   ---------\n",
       "   (0008, 0100) Code Value                          SH: '113109'\n",
       "   (0008, 0102) Coding Scheme Designator            SH: 'DCM'\n",
       "   (0008, 0104) Code Meaning                        LO: 'Retain Device Identity Option'\n",
       "   ---------\n",
       "   (0008, 0100) Code Value                          SH: '113111'\n",
       "   (0008, 0102) Coding Scheme Designator            SH: 'DCM'\n",
       "   (0008, 0104) Code Meaning                        LO: 'Retain Safe Private Option'\n",
       "   ---------\n",
       "(0013, 0010) Private Creator                     LO: 'CTP'\n",
       "(0013, 1010) Private tag data                    LO: 'Brain-Tumor-Progression'\n",
       "(0013, 1013) Private tag data                    LO: '44297055'\n",
       "(0018, 0010) Contrast/Bolus Agent                LO: '20cc  MULTI'\n",
       "(0018, 0015) Body Part Examined                  CS: 'BRAIN'\n",
       "(0018, 0020) Scanning Sequence                   CS: 'RM'\n",
       "(0018, 0021) Sequence Variant                    CS: 'NONE'\n",
       "(0018, 0022) Scan Options                        CS: ['FILTERED_GEMS', 'PFF']\n",
       "(0018, 0023) MR Acquisition Type                 CS: '2D'\n",
       "(0018, 0025) Angio Flag                          CS: 'N'\n",
       "(0018, 0050) Slice Thickness                     DS: \"5.0\"\n",
       "(0018, 0080) Repetition Time                     DS: \"600.0\"\n",
       "(0018, 0081) Echo Time                           DS: \"10.0\"\n",
       "(0018, 0082) Inversion Time                      DS: \"0.0\"\n",
       "(0018, 0083) Number of Averages                  DS: \"1.0\"\n",
       "(0018, 0084) Imaging Frequency                   DS: \"127.750582\"\n",
       "(0018, 0085) Imaged Nucleus                      SH: '1H'\n",
       "(0018, 0086) Echo Number(s)                      IS: \"1\"\n",
       "(0018, 0087) Magnetic Field Strength             DS: \"3.0\"\n",
       "(0018, 0088) Spacing Between Slices              DS: \"6.5\"\n",
       "(0018, 0091) Echo Train Length                   IS: \"1\"\n",
       "(0018, 0093) Percent Sampling                    DS: \"100.0\"\n",
       "(0018, 0094) Percent Phase Field of View         DS: \"100.0\"\n",
       "(0018, 0095) Pixel Bandwidth                     DS: \"122.07\"\n",
       "(0018, 1020) Software Versions                   LO: ['23', 'LX', 'MR Software release:DV22.0_V01_1040.a']\n",
       "(0018, 1030) Protocol Name                       LO: 'Brain RCBV'\n",
       "(0018, 1040) Contrast/Bolus Route                LO: 'IV'\n",
       "(0018, 1088) Heart Rate                          IS: \"188\"\n",
       "(0018, 1090) Cardiac Number of Images            IS: \"0\"\n",
       "(0018, 1094) Trigger Window                      IS: \"0\"\n",
       "(0018, 1100) Reconstruction Diameter             DS: \"220.0\"\n",
       "(0018, 1250) Receive Coil Name                   SH: 'HNS Head'\n",
       "(0018, 1310) Acquisition Matrix                  US: [0, 320, 192, 0]\n",
       "(0018, 1312) In-plane Phase Encoding Direction   CS: 'ROW'\n",
       "(0018, 1314) Flip Angle                          DS: \"75.0\"\n",
       "(0018, 1315) Variable Flip Angle Flag            CS: 'N'\n",
       "(0018, 1316) SAR                                 DS: \"1.95021\"\n",
       "(0018, 5100) Patient Position                    CS: 'HFS'\n",
       "(0019, 0010) Private Creator                     LO: 'GEMS_ACQU_01'\n",
       "(0019, 100f) [Horiz. Frame of ref.]              DS: \"361.299988\"\n",
       "(0019, 1011) [Series contrast]                   SS: 2\n",
       "(0019, 1012) [Last pseq]                         SS: 3\n",
       "(0019, 1017) [Series plane]                      SS: 16\n",
       "(0019, 1018) [First scan ras]                    LO: 'I'\n",
       "(0019, 1019) [First scan location]               DS: \"-92.2977\"\n",
       "(0019, 101a) [Last scan ras]                     LO: 'S'\n",
       "(0019, 101b) [Last scan loc]                     DS: \"57.084\"\n",
       "(0019, 101e) [Display field of view]             DS: \"220.0\"\n",
       "(0019, 105a) [Acquisition Duration]              FL: 123650000.0\n",
       "(0019, 107d) [Second echo]                       DS: \"0.0\"\n",
       "(0019, 107e) [Number of echoes]                  SS: 1\n",
       "(0019, 107f) [Table delta]                       DS: \"0.0\"\n",
       "(0019, 1081) [Contiguous]                        SS: 1\n",
       "(0019, 1084) [Peak SAR]                          DS: \"3.900418\"\n",
       "(0019, 1087) [Cardiac repetition time]           DS: \"0.0\"\n",
       "(0019, 1088) [Images per cardiac cycle]          SS: 0\n",
       "(0019, 108a) [Actual receive gain analog]        SS: 10\n",
       "(0019, 108b) [Actual receive gain digital]       SS: 14\n",
       "(0019, 108d) [Delay after trigger]               DS: \"0.0\"\n",
       "(0019, 108f) [Swappf]                            SS: 0\n",
       "(0019, 1090) [Pause Interval]                    SS: 0\n",
       "(0019, 1091) [Pause Time]                        DS: \"0.0\"\n",
       "(0019, 1092) [Slice offset on freq axis]         SL: 0\n",
       "(0019, 1093) [Auto Prescan Center Frequency]     DS: \"1277505820.0\"\n",
       "(0019, 1094) [Auto Prescan Transmit Gain]        SS: 120\n",
       "(0019, 1095) [Auto Prescan Analog receiver gain] SS: 10\n",
       "(0019, 1096) [Auto Prescan Digital receiver gain SS: 14\n",
       "(0019, 1097) [Bitmap defining CVs]               SL: 16\n",
       "(0019, 109b) [Pulse Sequence Mode]               SS: 1\n",
       "(0019, 109c) [Pulse Sequence Name]               LO: 't1memp'\n",
       "(0019, 109d) [Pulse Sequence Date]               DT: '19910307003815'\n",
       "(0019, 109e) [Internal Pulse Sequence Name]      LO: 'MEMP'\n",
       "(0019, 109f) [Transmitting Coil Type]            SS: 3\n",
       "(0019, 10a0) [Surface Coil Type]                 SS: 0\n",
       "(0019, 10a1) [Extremity Coil flag]               SS: 0\n",
       "(0019, 10a2) [Raw data run number]               SL: 43027\n",
       "(0019, 10a3) [Calibrated Field strength]         UL: 0\n",
       "(0019, 10a4) [SAT fat/water/bone]                SS: 0\n",
       "(0019, 10be) [Projection angle]                  DS: \"0.0\"\n",
       "(0019, 10c0) [Saturation planes]                 SS: 0\n",
       "(0019, 10c2) [SAT location R]                    SS: 9990\n",
       "(0019, 10c3) [SAT location L]                    SS: 9990\n",
       "(0019, 10c4) [SAT location A]                    SS: 9990\n",
       "(0019, 10c5) [SAT location P]                    SS: 9990\n",
       "(0019, 10c6) [SAT location H]                    SS: 9990\n",
       "(0019, 10c7) [SAT location F]                    SS: 9990\n",
       "(0019, 10c8) [SAT thickness R/L]                 SS: 0\n",
       "(0019, 10c9) [SAT thickness A/P]                 SS: 0\n",
       "(0019, 10ca) [SAT thickness H/F]                 SS: 0\n",
       "(0019, 10cb) [Phase Contrast flow axis]          SS: 0\n",
       "(0019, 10cc) [Velocity encoding]                 SS: 0\n",
       "(0019, 10cd) [Thickness disclaimer]              SS: 0\n",
       "(0019, 10ce) [Prescan type]                      SS: 2\n",
       "(0019, 10cf) [Prescan status]                    SS: 16\n",
       "(0019, 10d2) [Projection Algorithm]              SS: 0\n",
       "(0019, 10d3) [Projection Algorithm Name]         SH: ''\n",
       "(0019, 10d5) [Fractional echo]                   SS: 1\n",
       "(0019, 10d7) [Cardiac phase number]              SS: 0\n",
       "(0019, 10d8) [Variable echoflag]                 SS: 0\n",
       "(0019, 10d9) [Concatenated SAT {# DTI Diffusion  DS: \"0.0\"\n",
       "(0019, 10e2) [Velocity Encode Scale]             DS: \"0.0\"\n",
       "(0019, 10f2) [Fast phases]                       SS: 0\n",
       "(0019, 10f9) [Transmit gain]                     DS: \"120.0\"\n",
       "(0020, 000d) Study Instance UID                  UI: 1.3.6.1.4.1.14519.5.2.1.4429.7055.150780612714526351102143367056\n",
       "(0020, 000e) Series Instance UID                 UI: 1.3.6.1.4.1.14519.5.2.1.4429.7055.122927540165900794308427177241\n",
       "(0020, 0010) Study ID                            SH: ''\n",
       "(0020, 0011) Series Number                       IS: \"13\"\n",
       "(0020, 0012) Acquisition Number                  IS: \"1\"\n",
       "(0020, 0013) Instance Number                     IS: \"20\"\n",
       "(0020, 0032) Image Position (Patient)            DS: [-113.755, -155.269, 35.4703]\n",
       "(0020, 0037) Image Orientation (Patient)         DS: [1, -0, 0, -0, 0.999209, -0.0397657]\n",
       "(0020, 0052) Frame of Reference UID              UI: 1.3.6.1.4.1.14519.5.2.1.4429.7055.185651282521042129237357590472\n",
       "(0020, 0060) Laterality                          CS: ''\n",
       "(0020, 1002) Images in Acquisition               IS: \"24\"\n",
       "(0020, 1040) Position Reference Indicator        LO: ''\n",
       "(0020, 1041) Slice Location                      DS: \"31.10461998\"\n",
       "(0020, 9056) Stack ID                            SH: '1'\n",
       "(0020, 9057) In-Stack Position Number            UL: 20\n",
       "(0021, 0010) Private Creator                     LO: 'GEMS_RELA_01'\n",
       "(0021, 1036) [Image from which prescribed]       SS: 15\n",
       "(0021, 104f) [Locations in acquisition]          SS: 24\n",
       "(0021, 1050) [Graphically prescribed]            SS: 0\n",
       "(0021, 1051) [Rotation from source x rot]        DS: \"0.0\"\n",
       "(0021, 1052) [Rotation from source y rot]        DS: \"0.0\"\n",
       "(0021, 1053) [Rotation from source z rot]        DS: \"0.0\"\n",
       "(0021, 1056) [Num 3D slabs]                      SL: 0\n",
       "(0021, 1057) [Locs per 3D slab]                  SL: 0\n",
       "(0021, 1058) [Overlaps]                          SL: 0\n",
       "(0021, 1059) [Image Filtering 0.5/0.2T]          SL: 0\n",
       "(0021, 105a) [Diffusion direction]               SL: 0\n",
       "(0021, 105b) [Tagging Flip Angle]                DS: \"0.0\"\n",
       "(0021, 105c) [Tagging Orientation]               DS: \"0.0\"\n",
       "(0021, 105d) [Tag Spacing]                       DS: \"0.0\"\n",
       "(0021, 105e) [RTIA_timer]                        DS: \"0.0\"\n",
       "(0021, 105f) [Fps]                               DS: \"0.0\"\n",
       "(0021, 1081) [Auto window/level alpha]           DS: \"0.0\"\n",
       "(0021, 1082) [Auto window/level beta]            DS: \"0.0\"\n",
       "(0021, 1083) [Auto window/level window]          DS: \"0.0\"\n",
       "(0021, 1084) [Auto window/level level]           DS: \"0.0\"\n",
       "(0023, 0010) Private Creator                     LO: 'GEMS_STDY_01'\n",
       "(0023, 1074) [No. of updates to header]          SL: 0\n",
       "(0023, 107d) [Indicates study has complete info  SS: 0\n",
       "(0025, 0010) Private Creator                     LO: 'GEMS_SERS_01'\n",
       "(0025, 1006) [Last pulse sequence used]          SS: 3\n",
       "(0025, 1007) [Images in Series]                  SL: 24\n",
       "(0025, 1010) [Landmark Counter]                  SL: 0\n",
       "(0025, 1011) [Number of Acquisitions]            SS: 1\n",
       "(0025, 1014) [Indicates no. of updates to header SL: 0\n",
       "(0025, 1017) [Series Complete Flag]              SL: 0\n",
       "(0025, 1018) [Number of images archived]         SL: 0\n",
       "(0025, 1019) [Last image number used]            SL: 24\n",
       "(0027, 0010) Private Creator                     LO: 'GEMS_IMAG_01'\n",
       "(0027, 1010) [Scout Type]                        SS: 0\n",
       "(0027, 1030) [Foreign Image Revision]            SH: ''\n",
       "(0027, 1031) [Imaging Mode]                      SS: 1\n",
       "(0027, 1032) [Pulse Sequence]                    SS: 3\n",
       "(0027, 1033) [Imaging Options]                   UL: 0\n",
       "(0027, 1035) [Plane Type]                        SS: 16\n",
       "(0027, 1040) [RAS letter of image location]      SH: 'S'\n",
       "(0027, 1041) [Image location]                    FL: 31.1046199798584\n",
       "(0027, 1060) [Image dimension - X]               FL: 320.0\n",
       "(0027, 1061) [Image dimension - Y]               FL: 192.0\n",
       "(0027, 1062) [Number of Excitations]             FL: 1.0\n",
       "(0028, 0002) Samples per Pixel                   US: 1\n",
       "(0028, 0004) Photometric Interpretation          CS: 'MONOCHROME2'\n",
       "(0028, 0010) Rows                                US: 512\n",
       "(0028, 0011) Columns                             US: 512\n",
       "(0028, 0030) Pixel Spacing                       DS: [0.4297, 0.4297]\n",
       "(0028, 0100) Bits Allocated                      US: 16\n",
       "(0028, 0101) Bits Stored                         US: 16\n",
       "(0028, 0102) High Bit                            US: 15\n",
       "(0028, 0103) Pixel Representation                US: 1\n",
       "(0028, 0106) Smallest Image Pixel Value          SS: 0\n",
       "(0028, 0107) Largest Image Pixel Value           SS: 5482\n",
       "(0028, 0303) Longitudinal Temporal Information M CS: 'MODIFIED'\n",
       "(0028, 1050) Window Center                       DS: \"2741.0\"\n",
       "(0028, 1051) Window Width                        DS: \"5482.0\"\n",
       "(0029, 0010) Private Creator                     LO: 'GEMS_IMPS_01'\n",
       "(0029, 1015) [Lower range of Pixels1]            SL: 0\n",
       "(0029, 1016) [Upper range of Pixels1]            SL: 0\n",
       "(0029, 1017) [Lower range of Pixels2]            SL: 0\n",
       "(0029, 1018) [Upper range of Pixels2]            SL: 0\n",
       "(0029, 1026) [Version of the hdr struct]         SS: 2\n",
       "(0029, 1034) [Advantage comp. Overflow]          SL: 16384\n",
       "(0029, 1035) [Advantage comp. Underflow]         SL: 0\n",
       "(0040, 0244) Performed Procedure Step Start Date DA: '19920331'\n",
       "(0040, 0245) Performed Procedure Step Start Time TM: '124036'\n",
       "(0040, 0254) Performed Procedure Step Descriptio LO: 'MR RCBV SEQUENCE FH'\n",
       "(0043, 0010) Private Creator                     LO: 'GEMS_PARM_01'\n",
       "(0043, 1001) [Bitmap of prescan options]         SS: 0\n",
       "(0043, 1002) [Gradient offset in X]              SS: 9\n",
       "(0043, 1003) [Gradient offset in Y]              SS: -2\n",
       "(0043, 1004) [Gradient offset in Z]              SS: -23\n",
       "(0043, 1006) [Number of EPI shots]               SS: 0\n",
       "(0043, 1007) [Views per segment]                 SS: 0\n",
       "(0043, 1008) [Respiratory rate, bpm]             SS: 0\n",
       "(0043, 1009) [Respiratory trigger point]         SS: 0\n",
       "(0043, 100a) [Type of receiver used]             SS: 1\n",
       "(0043, 100b) [DB/dt Peak rate of change of gradi DS: \"0.0\"\n",
       "(0043, 100c) [dB/dt Limits in units of percent]  DS: \"100.0\"\n",
       "(0043, 100d) [PSD estimated limit]               DS: \"0.0\"\n",
       "(0043, 100e) [PSD estimated limit in tesla per s DS: \"0.0\"\n",
       "(0043, 1010) [Window value]                      US: 0\n",
       "(0043, 101c) [GE image integrity]                SS: 0\n",
       "(0043, 101d) [Level value]                       SS: 0\n",
       "(0043, 102c) [Effective echo spacing]            SS: 0\n",
       "(0043, 102d) [Filter Mode (String slop field 1 i SH: 's'\n",
       "(0043, 102e) [String slop field 2]               SH: ''\n",
       "(0043, 102f) [Image Type (real, imaginary, phase SS: 0\n",
       "(0043, 1032) [Vas flags]                         SS: 2\n",
       "(0043, 1033) [Neg_scanspacing]                   FL: 0.0\n",
       "(0043, 1034) [Offset Frequency]                  IS: \"0\"\n",
       "(0043, 1035) [User_usage_tag]                    UL: 0\n",
       "(0043, 1036) [User_fill_map_MSW]                 UL: 0\n",
       "(0043, 1037) [User_fill_map_LSW]                 UL: 0\n",
       "(0043, 1038) [User data 25...User data 48 {User4 FL: Array of 24 elements\n",
       "(0043, 1039) [Slop_int_6... slop_int_9]          IS: [1000, 0, 0, 0]\n",
       "(0043, 107d) [Recon mode flag word]              US: 1\n",
       "(0043, 1081) [GE Coil Name]                      LO: 'C-GE_HNS Head'\n",
       "(0043, 1083) [Asset R Factors]                   DS: [1, 1]\n",
       "(0043, 1084) [Additional Asset Data]             LO: ['10000', '0', '-1', '0', '', 'NO']\n",
       "(0043, 1088) [PURE Acquisition Calibration Serie UI: 1.3.6.1.4.1.14519.5.2.1.4429.7055.150957079884181546400933243132\n",
       "(0043, 1089) [Governing Body, dB/dt, and SAR def LO: ['FDA', 'IEC_FIRST_LEVEL', 'IEC_FIRST_LEVEL']\n",
       "(0043, 108a) [Private In-Plane Phase Encoding Di CS: 'ROW'\n",
       "(0043, 1090) [SAR Definition]                    LO: ['WHOLE_BODY_6_MIN', 'LOCAL_PEAK_6_MIN', 'PARTIAL_BODY_6MIN']\n",
       "(0043, 1091) [SAR value]                         DS: [1.95, 3.90042, 1.95021]\n",
       "(0043, 1095) [Prescan Reuse String]              LO: 'TG/s1'\n",
       "(0043, 1096) [Content Qualification]             CS: 'RESEARCH'\n",
       "(0043, 1097) [Image Filtering Parameters]        LO: ['2', '1', '1.5 0.2 0.2 2 64 0.4 1.05', '1.5 0.2 0.2 2 64 0.4 1.05', '1.5 0.2 0.2 2 64 0.4 1.05', '100', '0', '0', 'rev=1;a=75;b=2;c=32;d=8;e=3;f=2;g=1;h=0']\n",
       "(0043, 109a) [Rx Stack Identification]           IS: \"1\"], dtype=object)"
      ]
     },
     "execution_count": 6,
     "metadata": {},
     "output_type": "execute_result"
    }
   ],
   "source": [
    "np.array(series[0])[0]"
   ]
  },
  {
   "cell_type": "markdown",
   "metadata": {},
   "source": [
    "Let's print a few, see what we've got:"
   ]
  },
  {
   "cell_type": "code",
   "execution_count": 7,
   "metadata": {
    "scrolled": false
   },
   "outputs": [
    {
     "data": {
      "text/plain": [
       "(0008, 0005) Specific Character Set              CS: 'ISO_IR 100'\n",
       "(0008, 0008) Image Type                          CS: ['ORIGINAL', 'PRIMARY', 'OTHER']\n",
       "(0008, 0016) SOP Class UID                       UI: MR Image Storage\n",
       "(0008, 0018) SOP Instance UID                    UI: 1.3.6.1.4.1.14519.5.2.1.4429.7055.177101574016560679582170302823\n",
       "(0008, 0020) Study Date                          DA: '19920331'\n",
       "(0008, 0021) Series Date                         DA: '19920331'\n",
       "(0008, 0022) Acquisition Date                    DA: '19920331'\n",
       "(0008, 0023) Content Date                        DA: '19920331'\n",
       "(0008, 0030) Study Time                          TM: '124056'\n",
       "(0008, 0031) Series Time                         TM: '131542'\n",
       "(0008, 0032) Acquisition Time                    TM: '131542'\n",
       "(0008, 0033) Content Time                        TM: '131542'\n",
       "(0008, 0050) Accession Number                    SH: '2907810325500861'\n",
       "(0008, 0060) Modality                            CS: 'MR'\n",
       "(0008, 0070) Manufacturer                        LO: 'GE MEDICAL SYSTEMS'\n",
       "(0008, 0090) Referring Physician's Name          PN: ''\n",
       "(0008, 1030) Study Description                   LO: 'MR RCBV SEQUENCE FH'\n",
       "(0008, 103e) Series Description                  LO: 'T1post'\n",
       "(0008, 1090) Manufacturer's Model Name           LO: 'DISCOVERY MR750'\n",
       "(0008, 1111)  Referenced Performed Procedure Step Sequence   1 item(s) ---- \n",
       "   (0008, 1150) Referenced SOP Class UID            UI: Modality Performed Procedure Step SOP Class\n",
       "   (0008, 1155) Referenced SOP Instance UID         UI: 1.3.6.1.4.1.14519.5.2.1.4429.7055.853267219607033025558318881710\n",
       "   ---------\n",
       "(0008, 1140)  Referenced Image Sequence   2 item(s) ---- \n",
       "   (0008, 1150) Referenced SOP Class UID            UI: MR Image Storage\n",
       "   (0008, 1155) Referenced SOP Instance UID         UI: 1.3.6.1.4.1.14519.5.2.1.4429.7055.195637995418579015859247554876\n",
       "   ---------\n",
       "   (0008, 1150) Referenced SOP Class UID            UI: MR Image Storage\n",
       "   (0008, 1155) Referenced SOP Instance UID         UI: 1.3.6.1.4.1.14519.5.2.1.4429.7055.215233187047776924451743410308\n",
       "   ---------\n",
       "(0009, 0010) Private Creator                     LO: 'GEMS_IDEN_01'\n",
       "(0009, 1002) [Suite id]                          SH: 'MR02'\n",
       "(0009, 1004) [Product id]                        SH: 'SIGNA'\n",
       "(0009, 10e3) [Equipment UID]                     UI: 1.3.6.1.4.1.14519.5.2.1.4429.7055.169203633127928812137237615053\n",
       "(0010, 0010) Patient's Name                      PN: 'PGBM-008'\n",
       "(0010, 0020) Patient ID                          LO: 'PGBM-008'\n",
       "(0010, 0030) Patient's Birth Date                DA: ''\n",
       "(0010, 0040) Patient's Sex                       CS: 'M'\n",
       "(0010, 1010) Patient's Age                       AS: '051Y'\n",
       "(0010, 1020) Patient's Size                      DS: \"1.855\"\n",
       "(0010, 1030) Patient's Weight                    DS: \"103.87\"\n",
       "(0010, 21b0) Additional Patient History          LT: ''\n",
       "(0012, 0062) Patient Identity Removed            CS: 'YES'\n",
       "(0012, 0063) De-identification Method            LO: 'Per DICOM PS 3.15 AnnexE. Details in 0012,0064'\n",
       "(0012, 0064)  De-identification Method Code Sequence   8 item(s) ---- \n",
       "   (0008, 0100) Code Value                          SH: '113100'\n",
       "   (0008, 0102) Coding Scheme Designator            SH: 'DCM'\n",
       "   (0008, 0104) Code Meaning                        LO: 'Basic Application Confidentiality Profile'\n",
       "   ---------\n",
       "   (0008, 0100) Code Value                          SH: '113101'\n",
       "   (0008, 0102) Coding Scheme Designator            SH: 'DCM'\n",
       "   (0008, 0104) Code Meaning                        LO: 'Clean Pixel Data Option'\n",
       "   ---------\n",
       "   (0008, 0100) Code Value                          SH: '113104'\n",
       "   (0008, 0102) Coding Scheme Designator            SH: 'DCM'\n",
       "   (0008, 0104) Code Meaning                        LO: 'Clean Structured Content Option'\n",
       "   ---------\n",
       "   (0008, 0100) Code Value                          SH: '113105'\n",
       "   (0008, 0102) Coding Scheme Designator            SH: 'DCM'\n",
       "   (0008, 0104) Code Meaning                        LO: 'Clean Descriptors Option'\n",
       "   ---------\n",
       "   (0008, 0100) Code Value                          SH: '113107'\n",
       "   (0008, 0102) Coding Scheme Designator            SH: 'DCM'\n",
       "   (0008, 0104) Code Meaning                        LO: 'Retain Longitudinal Temporal Information Modified Dates Option'\n",
       "   ---------\n",
       "   (0008, 0100) Code Value                          SH: '113108'\n",
       "   (0008, 0102) Coding Scheme Designator            SH: 'DCM'\n",
       "   (0008, 0104) Code Meaning                        LO: 'Retain Patient Characteristics Option'\n",
       "   ---------\n",
       "   (0008, 0100) Code Value                          SH: '113109'\n",
       "   (0008, 0102) Coding Scheme Designator            SH: 'DCM'\n",
       "   (0008, 0104) Code Meaning                        LO: 'Retain Device Identity Option'\n",
       "   ---------\n",
       "   (0008, 0100) Code Value                          SH: '113111'\n",
       "   (0008, 0102) Coding Scheme Designator            SH: 'DCM'\n",
       "   (0008, 0104) Code Meaning                        LO: 'Retain Safe Private Option'\n",
       "   ---------\n",
       "(0013, 0010) Private Creator                     LO: 'CTP'\n",
       "(0013, 1010) Private tag data                    LO: 'Brain-Tumor-Progression'\n",
       "(0013, 1013) Private tag data                    LO: '44297055'\n",
       "(0018, 0010) Contrast/Bolus Agent                LO: '20cc  MULTI'\n",
       "(0018, 0015) Body Part Examined                  CS: 'BRAIN'\n",
       "(0018, 0020) Scanning Sequence                   CS: 'RM'\n",
       "(0018, 0021) Sequence Variant                    CS: 'NONE'\n",
       "(0018, 0022) Scan Options                        CS: ['FILTERED_GEMS', 'PFF']\n",
       "(0018, 0023) MR Acquisition Type                 CS: '2D'\n",
       "(0018, 0025) Angio Flag                          CS: 'N'\n",
       "(0018, 0050) Slice Thickness                     DS: \"5.0\"\n",
       "(0018, 0080) Repetition Time                     DS: \"600.0\"\n",
       "(0018, 0081) Echo Time                           DS: \"10.0\"\n",
       "(0018, 0082) Inversion Time                      DS: \"0.0\"\n",
       "(0018, 0083) Number of Averages                  DS: \"1.0\"\n",
       "(0018, 0084) Imaging Frequency                   DS: \"127.750582\"\n",
       "(0018, 0085) Imaged Nucleus                      SH: '1H'\n",
       "(0018, 0086) Echo Number(s)                      IS: \"1\"\n",
       "(0018, 0087) Magnetic Field Strength             DS: \"3.0\"\n",
       "(0018, 0088) Spacing Between Slices              DS: \"6.5\"\n",
       "(0018, 0091) Echo Train Length                   IS: \"1\"\n",
       "(0018, 0093) Percent Sampling                    DS: \"100.0\"\n",
       "(0018, 0094) Percent Phase Field of View         DS: \"100.0\"\n",
       "(0018, 0095) Pixel Bandwidth                     DS: \"122.07\"\n",
       "(0018, 1020) Software Versions                   LO: ['23', 'LX', 'MR Software release:DV22.0_V01_1040.a']\n",
       "(0018, 1030) Protocol Name                       LO: 'Brain RCBV'\n",
       "(0018, 1040) Contrast/Bolus Route                LO: 'IV'\n",
       "(0018, 1088) Heart Rate                          IS: \"188\"\n",
       "(0018, 1090) Cardiac Number of Images            IS: \"0\"\n",
       "(0018, 1094) Trigger Window                      IS: \"0\"\n",
       "(0018, 1100) Reconstruction Diameter             DS: \"220.0\"\n",
       "(0018, 1250) Receive Coil Name                   SH: 'HNS Head'\n",
       "(0018, 1310) Acquisition Matrix                  US: [0, 320, 192, 0]\n",
       "(0018, 1312) In-plane Phase Encoding Direction   CS: 'ROW'\n",
       "(0018, 1314) Flip Angle                          DS: \"75.0\"\n",
       "(0018, 1315) Variable Flip Angle Flag            CS: 'N'\n",
       "(0018, 1316) SAR                                 DS: \"1.95021\"\n",
       "(0018, 5100) Patient Position                    CS: 'HFS'\n",
       "(0019, 0010) Private Creator                     LO: 'GEMS_ACQU_01'\n",
       "(0019, 100f) [Horiz. Frame of ref.]              DS: \"361.299988\"\n",
       "(0019, 1011) [Series contrast]                   SS: 2\n",
       "(0019, 1012) [Last pseq]                         SS: 3\n",
       "(0019, 1017) [Series plane]                      SS: 16\n",
       "(0019, 1018) [First scan ras]                    LO: 'I'\n",
       "(0019, 1019) [First scan location]               DS: \"-92.2977\"\n",
       "(0019, 101a) [Last scan ras]                     LO: 'S'\n",
       "(0019, 101b) [Last scan loc]                     DS: \"57.084\"\n",
       "(0019, 101e) [Display field of view]             DS: \"220.0\"\n",
       "(0019, 105a) [Acquisition Duration]              FL: 123650000.0\n",
       "(0019, 107d) [Second echo]                       DS: \"0.0\"\n",
       "(0019, 107e) [Number of echoes]                  SS: 1\n",
       "(0019, 107f) [Table delta]                       DS: \"0.0\"\n",
       "(0019, 1081) [Contiguous]                        SS: 1\n",
       "(0019, 1084) [Peak SAR]                          DS: \"3.900418\"\n",
       "(0019, 1087) [Cardiac repetition time]           DS: \"0.0\"\n",
       "(0019, 1088) [Images per cardiac cycle]          SS: 0\n",
       "(0019, 108a) [Actual receive gain analog]        SS: 10\n",
       "(0019, 108b) [Actual receive gain digital]       SS: 14\n",
       "(0019, 108d) [Delay after trigger]               DS: \"0.0\"\n",
       "(0019, 108f) [Swappf]                            SS: 0\n",
       "(0019, 1090) [Pause Interval]                    SS: 0\n",
       "(0019, 1091) [Pause Time]                        DS: \"0.0\"\n",
       "(0019, 1092) [Slice offset on freq axis]         SL: 0\n",
       "(0019, 1093) [Auto Prescan Center Frequency]     DS: \"1277505820.0\"\n",
       "(0019, 1094) [Auto Prescan Transmit Gain]        SS: 120\n",
       "(0019, 1095) [Auto Prescan Analog receiver gain] SS: 10\n",
       "(0019, 1096) [Auto Prescan Digital receiver gain SS: 14\n",
       "(0019, 1097) [Bitmap defining CVs]               SL: 16\n",
       "(0019, 109b) [Pulse Sequence Mode]               SS: 1\n",
       "(0019, 109c) [Pulse Sequence Name]               LO: 't1memp'\n",
       "(0019, 109d) [Pulse Sequence Date]               DT: '19910307003815'\n",
       "(0019, 109e) [Internal Pulse Sequence Name]      LO: 'MEMP'\n",
       "(0019, 109f) [Transmitting Coil Type]            SS: 3\n",
       "(0019, 10a0) [Surface Coil Type]                 SS: 0\n",
       "(0019, 10a1) [Extremity Coil flag]               SS: 0\n",
       "(0019, 10a2) [Raw data run number]               SL: 43027\n",
       "(0019, 10a3) [Calibrated Field strength]         UL: 0\n",
       "(0019, 10a4) [SAT fat/water/bone]                SS: 0\n",
       "(0019, 10be) [Projection angle]                  DS: \"0.0\"\n",
       "(0019, 10c0) [Saturation planes]                 SS: 0\n",
       "(0019, 10c2) [SAT location R]                    SS: 9990\n",
       "(0019, 10c3) [SAT location L]                    SS: 9990\n",
       "(0019, 10c4) [SAT location A]                    SS: 9990\n",
       "(0019, 10c5) [SAT location P]                    SS: 9990\n",
       "(0019, 10c6) [SAT location H]                    SS: 9990\n",
       "(0019, 10c7) [SAT location F]                    SS: 9990\n",
       "(0019, 10c8) [SAT thickness R/L]                 SS: 0\n",
       "(0019, 10c9) [SAT thickness A/P]                 SS: 0\n",
       "(0019, 10ca) [SAT thickness H/F]                 SS: 0\n",
       "(0019, 10cb) [Phase Contrast flow axis]          SS: 0\n",
       "(0019, 10cc) [Velocity encoding]                 SS: 0\n",
       "(0019, 10cd) [Thickness disclaimer]              SS: 0\n",
       "(0019, 10ce) [Prescan type]                      SS: 2\n",
       "(0019, 10cf) [Prescan status]                    SS: 16\n",
       "(0019, 10d2) [Projection Algorithm]              SS: 0\n",
       "(0019, 10d3) [Projection Algorithm Name]         SH: ''\n",
       "(0019, 10d5) [Fractional echo]                   SS: 1\n",
       "(0019, 10d7) [Cardiac phase number]              SS: 0\n",
       "(0019, 10d8) [Variable echoflag]                 SS: 0\n",
       "(0019, 10d9) [Concatenated SAT {# DTI Diffusion  DS: \"0.0\"\n",
       "(0019, 10e2) [Velocity Encode Scale]             DS: \"0.0\"\n",
       "(0019, 10f2) [Fast phases]                       SS: 0\n",
       "(0019, 10f9) [Transmit gain]                     DS: \"120.0\"\n",
       "(0020, 000d) Study Instance UID                  UI: 1.3.6.1.4.1.14519.5.2.1.4429.7055.150780612714526351102143367056\n",
       "(0020, 000e) Series Instance UID                 UI: 1.3.6.1.4.1.14519.5.2.1.4429.7055.122927540165900794308427177241\n",
       "(0020, 0010) Study ID                            SH: ''\n",
       "(0020, 0011) Series Number                       IS: \"13\"\n",
       "(0020, 0012) Acquisition Number                  IS: \"1\"\n",
       "(0020, 0013) Instance Number                     IS: \"20\"\n",
       "(0020, 0032) Image Position (Patient)            DS: [-113.755, -155.269, 35.4703]\n",
       "(0020, 0037) Image Orientation (Patient)         DS: [1, -0, 0, -0, 0.999209, -0.0397657]\n",
       "(0020, 0052) Frame of Reference UID              UI: 1.3.6.1.4.1.14519.5.2.1.4429.7055.185651282521042129237357590472\n",
       "(0020, 0060) Laterality                          CS: ''\n",
       "(0020, 1002) Images in Acquisition               IS: \"24\"\n",
       "(0020, 1040) Position Reference Indicator        LO: ''\n",
       "(0020, 1041) Slice Location                      DS: \"31.10461998\"\n",
       "(0020, 9056) Stack ID                            SH: '1'\n",
       "(0020, 9057) In-Stack Position Number            UL: 20\n",
       "(0021, 0010) Private Creator                     LO: 'GEMS_RELA_01'\n",
       "(0021, 1036) [Image from which prescribed]       SS: 15\n",
       "(0021, 104f) [Locations in acquisition]          SS: 24\n",
       "(0021, 1050) [Graphically prescribed]            SS: 0\n",
       "(0021, 1051) [Rotation from source x rot]        DS: \"0.0\"\n",
       "(0021, 1052) [Rotation from source y rot]        DS: \"0.0\"\n",
       "(0021, 1053) [Rotation from source z rot]        DS: \"0.0\"\n",
       "(0021, 1056) [Num 3D slabs]                      SL: 0\n",
       "(0021, 1057) [Locs per 3D slab]                  SL: 0\n",
       "(0021, 1058) [Overlaps]                          SL: 0\n",
       "(0021, 1059) [Image Filtering 0.5/0.2T]          SL: 0\n",
       "(0021, 105a) [Diffusion direction]               SL: 0\n",
       "(0021, 105b) [Tagging Flip Angle]                DS: \"0.0\"\n",
       "(0021, 105c) [Tagging Orientation]               DS: \"0.0\"\n",
       "(0021, 105d) [Tag Spacing]                       DS: \"0.0\"\n",
       "(0021, 105e) [RTIA_timer]                        DS: \"0.0\"\n",
       "(0021, 105f) [Fps]                               DS: \"0.0\"\n",
       "(0021, 1081) [Auto window/level alpha]           DS: \"0.0\"\n",
       "(0021, 1082) [Auto window/level beta]            DS: \"0.0\"\n",
       "(0021, 1083) [Auto window/level window]          DS: \"0.0\"\n",
       "(0021, 1084) [Auto window/level level]           DS: \"0.0\"\n",
       "(0023, 0010) Private Creator                     LO: 'GEMS_STDY_01'\n",
       "(0023, 1074) [No. of updates to header]          SL: 0\n",
       "(0023, 107d) [Indicates study has complete info  SS: 0\n",
       "(0025, 0010) Private Creator                     LO: 'GEMS_SERS_01'\n",
       "(0025, 1006) [Last pulse sequence used]          SS: 3\n",
       "(0025, 1007) [Images in Series]                  SL: 24\n",
       "(0025, 1010) [Landmark Counter]                  SL: 0\n",
       "(0025, 1011) [Number of Acquisitions]            SS: 1\n",
       "(0025, 1014) [Indicates no. of updates to header SL: 0\n",
       "(0025, 1017) [Series Complete Flag]              SL: 0\n",
       "(0025, 1018) [Number of images archived]         SL: 0\n",
       "(0025, 1019) [Last image number used]            SL: 24\n",
       "(0027, 0010) Private Creator                     LO: 'GEMS_IMAG_01'\n",
       "(0027, 1010) [Scout Type]                        SS: 0\n",
       "(0027, 1030) [Foreign Image Revision]            SH: ''\n",
       "(0027, 1031) [Imaging Mode]                      SS: 1\n",
       "(0027, 1032) [Pulse Sequence]                    SS: 3\n",
       "(0027, 1033) [Imaging Options]                   UL: 0\n",
       "(0027, 1035) [Plane Type]                        SS: 16\n",
       "(0027, 1040) [RAS letter of image location]      SH: 'S'\n",
       "(0027, 1041) [Image location]                    FL: 31.1046199798584\n",
       "(0027, 1060) [Image dimension - X]               FL: 320.0\n",
       "(0027, 1061) [Image dimension - Y]               FL: 192.0\n",
       "(0027, 1062) [Number of Excitations]             FL: 1.0\n",
       "(0028, 0002) Samples per Pixel                   US: 1\n",
       "(0028, 0004) Photometric Interpretation          CS: 'MONOCHROME2'\n",
       "(0028, 0010) Rows                                US: 512\n",
       "(0028, 0011) Columns                             US: 512\n",
       "(0028, 0030) Pixel Spacing                       DS: [0.4297, 0.4297]\n",
       "(0028, 0100) Bits Allocated                      US: 16\n",
       "(0028, 0101) Bits Stored                         US: 16\n",
       "(0028, 0102) High Bit                            US: 15\n",
       "(0028, 0103) Pixel Representation                US: 1\n",
       "(0028, 0106) Smallest Image Pixel Value          SS: 0\n",
       "(0028, 0107) Largest Image Pixel Value           SS: 5482\n",
       "(0028, 0303) Longitudinal Temporal Information M CS: 'MODIFIED'\n",
       "(0028, 1050) Window Center                       DS: \"2741.0\"\n",
       "(0028, 1051) Window Width                        DS: \"5482.0\"\n",
       "(0029, 0010) Private Creator                     LO: 'GEMS_IMPS_01'\n",
       "(0029, 1015) [Lower range of Pixels1]            SL: 0\n",
       "(0029, 1016) [Upper range of Pixels1]            SL: 0\n",
       "(0029, 1017) [Lower range of Pixels2]            SL: 0\n",
       "(0029, 1018) [Upper range of Pixels2]            SL: 0\n",
       "(0029, 1026) [Version of the hdr struct]         SS: 2\n",
       "(0029, 1034) [Advantage comp. Overflow]          SL: 16384\n",
       "(0029, 1035) [Advantage comp. Underflow]         SL: 0\n",
       "(0040, 0244) Performed Procedure Step Start Date DA: '19920331'\n",
       "(0040, 0245) Performed Procedure Step Start Time TM: '124036'\n",
       "(0040, 0254) Performed Procedure Step Descriptio LO: 'MR RCBV SEQUENCE FH'\n",
       "(0043, 0010) Private Creator                     LO: 'GEMS_PARM_01'\n",
       "(0043, 1001) [Bitmap of prescan options]         SS: 0\n",
       "(0043, 1002) [Gradient offset in X]              SS: 9\n",
       "(0043, 1003) [Gradient offset in Y]              SS: -2\n",
       "(0043, 1004) [Gradient offset in Z]              SS: -23\n",
       "(0043, 1006) [Number of EPI shots]               SS: 0\n",
       "(0043, 1007) [Views per segment]                 SS: 0\n",
       "(0043, 1008) [Respiratory rate, bpm]             SS: 0\n",
       "(0043, 1009) [Respiratory trigger point]         SS: 0\n",
       "(0043, 100a) [Type of receiver used]             SS: 1\n",
       "(0043, 100b) [DB/dt Peak rate of change of gradi DS: \"0.0\"\n",
       "(0043, 100c) [dB/dt Limits in units of percent]  DS: \"100.0\"\n",
       "(0043, 100d) [PSD estimated limit]               DS: \"0.0\"\n",
       "(0043, 100e) [PSD estimated limit in tesla per s DS: \"0.0\"\n",
       "(0043, 1010) [Window value]                      US: 0\n",
       "(0043, 101c) [GE image integrity]                SS: 0\n",
       "(0043, 101d) [Level value]                       SS: 0\n",
       "(0043, 102c) [Effective echo spacing]            SS: 0\n",
       "(0043, 102d) [Filter Mode (String slop field 1 i SH: 's'\n",
       "(0043, 102e) [String slop field 2]               SH: ''\n",
       "(0043, 102f) [Image Type (real, imaginary, phase SS: 0\n",
       "(0043, 1032) [Vas flags]                         SS: 2\n",
       "(0043, 1033) [Neg_scanspacing]                   FL: 0.0\n",
       "(0043, 1034) [Offset Frequency]                  IS: \"0\"\n",
       "(0043, 1035) [User_usage_tag]                    UL: 0\n",
       "(0043, 1036) [User_fill_map_MSW]                 UL: 0\n",
       "(0043, 1037) [User_fill_map_LSW]                 UL: 0\n",
       "(0043, 1038) [User data 25...User data 48 {User4 FL: Array of 24 elements\n",
       "(0043, 1039) [Slop_int_6... slop_int_9]          IS: [1000, 0, 0, 0]\n",
       "(0043, 107d) [Recon mode flag word]              US: 1\n",
       "(0043, 1081) [GE Coil Name]                      LO: 'C-GE_HNS Head'\n",
       "(0043, 1083) [Asset R Factors]                   DS: [1, 1]\n",
       "(0043, 1084) [Additional Asset Data]             LO: ['10000', '0', '-1', '0', '', 'NO']\n",
       "(0043, 1088) [PURE Acquisition Calibration Serie UI: 1.3.6.1.4.1.14519.5.2.1.4429.7055.150957079884181546400933243132\n",
       "(0043, 1089) [Governing Body, dB/dt, and SAR def LO: ['FDA', 'IEC_FIRST_LEVEL', 'IEC_FIRST_LEVEL']\n",
       "(0043, 108a) [Private In-Plane Phase Encoding Di CS: 'ROW'\n",
       "(0043, 1090) [SAR Definition]                    LO: ['WHOLE_BODY_6_MIN', 'LOCAL_PEAK_6_MIN', 'PARTIAL_BODY_6MIN']\n",
       "(0043, 1091) [SAR value]                         DS: [1.95, 3.90042, 1.95021]\n",
       "(0043, 1095) [Prescan Reuse String]              LO: 'TG/s1'\n",
       "(0043, 1096) [Content Qualification]             CS: 'RESEARCH'\n",
       "(0043, 1097) [Image Filtering Parameters]        LO: ['2', '1', '1.5 0.2 0.2 2 64 0.4 1.05', '1.5 0.2 0.2 2 64 0.4 1.05', '1.5 0.2 0.2 2 64 0.4 1.05', '100', '0', '0', 'rev=1;a=75;b=2;c=32;d=8;e=3;f=2;g=1;h=0']\n",
       "(0043, 109a) [Rx Stack Identification]           IS: \"1\""
      ]
     },
     "execution_count": 7,
     "metadata": {},
     "output_type": "execute_result"
    }
   ],
   "source": [
    "series[0][0][1]"
   ]
  },
  {
   "cell_type": "markdown",
   "metadata": {},
   "source": [
    "*Looks like we have MR data*  \n",
    "*Looks like we can rely on patient IDs*"
   ]
  },
  {
   "cell_type": "markdown",
   "metadata": {},
   "source": [
    "How many total files"
   ]
  },
  {
   "cell_type": "code",
   "execution_count": 8,
   "metadata": {},
   "outputs": [
    {
     "data": {
      "text/plain": [
       "1794"
      ]
     },
     "execution_count": 8,
     "metadata": {},
     "output_type": "execute_result"
    }
   ],
   "source": [
    "instances = [f for l in series for f in l]\n",
    "len(instances)"
   ]
  },
  {
   "cell_type": "markdown",
   "metadata": {},
   "source": [
    "How many patients?"
   ]
  },
  {
   "cell_type": "code",
   "execution_count": 9,
   "metadata": {},
   "outputs": [
    {
     "data": {
      "text/plain": [
       "4"
      ]
     },
     "execution_count": 9,
     "metadata": {},
     "output_type": "execute_result"
    }
   ],
   "source": [
    "patient_ids = np.unique([inst[1].PatientID for inst in instances])\n",
    "len(patient_ids)"
   ]
  },
  {
   "cell_type": "markdown",
   "metadata": {},
   "source": [
    "*Great - no errors hence all instances have the PatientID tag, and looks like we can rely on it*"
   ]
  },
  {
   "cell_type": "markdown",
   "metadata": {},
   "source": [
    "How many total series (i.e. 3D volumes)?"
   ]
  },
  {
   "cell_type": "code",
   "execution_count": 10,
   "metadata": {},
   "outputs": [
    {
     "data": {
      "text/plain": [
       "76"
      ]
     },
     "execution_count": 10,
     "metadata": {},
     "output_type": "execute_result"
    }
   ],
   "source": [
    "len(series)"
   ]
  },
  {
   "cell_type": "markdown",
   "metadata": {},
   "source": [
    "What is the relationship between patients, studies and series?"
   ]
  },
  {
   "cell_type": "code",
   "execution_count": 11,
   "metadata": {},
   "outputs": [],
   "source": [
    "# How many studies?\n",
    "\n",
    "studies = {}\n",
    "\n",
    "for s in series:\n",
    "    studies.setdefault(s[0][1].StudyInstanceUID, []).append(s)   "
   ]
  },
  {
   "cell_type": "code",
   "execution_count": 12,
   "metadata": {},
   "outputs": [
    {
     "data": {
      "text/plain": [
       "8"
      ]
     },
     "execution_count": 12,
     "metadata": {},
     "output_type": "execute_result"
    }
   ],
   "source": [
    "len(studies)"
   ]
  },
  {
   "cell_type": "markdown",
   "metadata": {},
   "source": [
    "Let's see how many studies per patient"
   ]
  },
  {
   "cell_type": "code",
   "execution_count": 13,
   "metadata": {},
   "outputs": [
    {
     "data": {
      "text/plain": [
       "[2, 2, 2, 2]"
      ]
     },
     "execution_count": 13,
     "metadata": {},
     "output_type": "execute_result"
    }
   ],
   "source": [
    "[len([st for st in studies.values() if st[0][0][1].PatientID == p]) for p in patient_ids]"
   ]
  },
  {
   "cell_type": "markdown",
   "metadata": {},
   "source": [
    "*Nice, all even. Let's look at directory on the file system.*  \n",
    "*Looks like 2 points in time per patient*"
   ]
  },
  {
   "cell_type": "code",
   "execution_count": 14,
   "metadata": {},
   "outputs": [
    {
     "data": {
      "text/plain": [
       "[(10, 'PGBM-008'),\n",
       " (10, 'PGBM-008'),\n",
       " (10, 'PGBM-001'),\n",
       " (10, 'PGBM-001'),\n",
       " (10, 'PGBM-003'),\n",
       " (10, 'PGBM-003'),\n",
       " (10, 'PGBM-006'),\n",
       " (6, 'PGBM-006')]"
      ]
     },
     "execution_count": 14,
     "metadata": {},
     "output_type": "execute_result"
    }
   ],
   "source": [
    "# Let's see how many series per study\n",
    "\n",
    "series_per_study = [(len(sr), sr[0][0][1].PatientID) for sr in studies.values()]\n",
    "series_per_study"
   ]
  },
  {
   "cell_type": "markdown",
   "metadata": {},
   "source": [
    "Let's take a quick glimpse at that outlier on the file system. \n",
    "\n",
    "- seems like it's missing some sequences"
   ]
  },
  {
   "cell_type": "markdown",
   "metadata": {},
   "source": [
    "Finally, how many images per series:"
   ]
  },
  {
   "cell_type": "code",
   "execution_count": 15,
   "metadata": {},
   "outputs": [
    {
     "name": "stdout",
     "output_type": "stream",
     "text": [
      "[24, 24, 24, 24, 24, 24, 24, 24, 24, 24, 22, 22, 22, 22, 22, 22, 22, 22, 22, 22, 24, 24, 24, 24, 24, 24, 24, 24, 24, 24, 25, 25, 25, 25, 25, 25, 25, 25, 25, 25, 24, 24, 24, 24, 24, 24, 24, 24, 24, 24, 22, 22, 22, 22, 22, 22, 22, 22, 22, 22, 24, 24, 24, 24, 24, 24, 24, 24, 24, 24, 24, 24, 24, 24, 24, 24]\n"
     ]
    }
   ],
   "source": [
    "img_per_series = [len(s) for s in series]\n",
    "print(img_per_series)"
   ]
  },
  {
   "cell_type": "markdown",
   "metadata": {},
   "source": [
    "*Nice, no outliers*"
   ]
  },
  {
   "cell_type": "markdown",
   "metadata": {},
   "source": [
    "Let's look at spacing and in-plane resolution:"
   ]
  },
  {
   "cell_type": "code",
   "execution_count": 16,
   "metadata": {},
   "outputs": [],
   "source": [
    "res = {}\n",
    "spc = {}\n",
    "thck = {}\n",
    "\n",
    "for sr in series:\n",
    "    dcm = sr[0][1]\n",
    "    key = str(dcm.PixelSpacing)\n",
    "    spc.setdefault(key, [])\n",
    "    spc[key].append((dcm.PatientID, dcm.StudyDescription, dcm.StudyDate, dcm.SeriesDescription))\n",
    "    \n",
    "    key = str((dcm.Rows, dcm.Columns))\n",
    "    res.setdefault(key, [])\n",
    "    res[key].append((dcm.PatientID, dcm.StudyDescription, dcm.StudyDate, dcm.SeriesDescription))\n",
    "    \n",
    "    key = str(dcm.SliceThickness)\n",
    "    thck.setdefault(key, [])\n",
    "    thck[key].append((dcm.PatientID, dcm.StudyDescription, dcm.StudyDate, dcm.SeriesDescription))\n",
    "    \n"
   ]
  },
  {
   "cell_type": "markdown",
   "metadata": {},
   "source": [
    "Let's look at slice thickness"
   ]
  },
  {
   "cell_type": "code",
   "execution_count": 17,
   "metadata": {},
   "outputs": [
    {
     "data": {
      "text/plain": [
       "dict_keys(['5', '5.000000'])"
      ]
     },
     "execution_count": 17,
     "metadata": {},
     "output_type": "execute_result"
    }
   ],
   "source": [
    "thck.keys()"
   ]
  },
  {
   "cell_type": "markdown",
   "metadata": {},
   "source": [
    "*Great, all consistent*\n",
    "\n",
    "Let's look at pixel spacing"
   ]
  },
  {
   "cell_type": "code",
   "execution_count": 18,
   "metadata": {},
   "outputs": [
    {
     "data": {
      "text/plain": [
       "dict_keys(['[0.4297, 0.4297]', '[0.42970000000000, 0.42970000000000]', '[0.429700, 0.429700]', '[0.687500, 0.687500]', '[0.68750000000000, 0.68750000000000]', '[0.6875, 0.6875]'])"
      ]
     },
     "execution_count": 18,
     "metadata": {},
     "output_type": "execute_result"
    }
   ],
   "source": [
    "spc.keys()"
   ]
  },
  {
   "cell_type": "markdown",
   "metadata": {},
   "source": [
    "*Not very consistent, let's try to see what is going on*"
   ]
  },
  {
   "cell_type": "code",
   "execution_count": 19,
   "metadata": {
    "scrolled": false
   },
   "outputs": [
    {
     "data": {
      "text/plain": [
       "{'[0.4297, 0.4297]': [('PGBM-008',\n",
       "   'MR RCBV SEQUENCE FH',\n",
       "   '19920331',\n",
       "   'T1post'),\n",
       "  ('PGBM-008', 'MR RCBV SEQUENCE FH', '19920331', 'T2_reg'),\n",
       "  ('PGBM-008', 'MR RCBV SEQUENCE FH', '19920331', 'FLAIR_reg'),\n",
       "  ('PGBM-003', 'MR RCBV SEQUENCE', '19951017', 'T1post'),\n",
       "  ('PGBM-003', 'MR RCBV SEQUENCE', '19951017', 'T2_reg'),\n",
       "  ('PGBM-003', 'MR RCBV SEQUENCE', '19951017', 'FLAIR_reg'),\n",
       "  ('PGBM-003', 'MR RCBV SEQUENCE', '19951017', 'T1pre_reg'),\n",
       "  ('PGBM-006', 'MR RCBV SEQUENCE', '19961210', 'T1pre_reg'),\n",
       "  ('PGBM-006', 'MR RCBV SEQUENCE', '19961210', 'T1post'),\n",
       "  ('PGBM-006', 'MR RCBV SEQUENCE', '19961210', 'T2_reg'),\n",
       "  ('PGBM-006', 'MR RCBV SEQUENCE', '19961210', 'FLAIR_reg'),\n",
       "  ('PGBM-006', 'MR RCBV SEQUENCE', '19970211', 'T1pre_reg')],\n",
       " '[0.42970000000000, 0.42970000000000]': [('PGBM-008',\n",
       "   'MR RCBV SEQUENCE FH',\n",
       "   '19920331',\n",
       "   'ADC_reg'),\n",
       "  ('PGBM-008', 'MR RCBV SEQUENCE FH', '19920331', 'nRCBV_reg'),\n",
       "  ('PGBM-008', 'MR RCBV SEQUENCE FH', '19920331', 'nCBF_reg'),\n",
       "  ('PGBM-008', 'MR RCBV SEQUENCE FH', '19920331', 'sRCBV_reg'),\n",
       "  ('PGBM-003', 'MR RCBV SEQUENCE', '19951017', 'ADC_reg'),\n",
       "  ('PGBM-003', 'MR RCBV SEQUENCE', '19951017', 'nRCBV_reg'),\n",
       "  ('PGBM-003', 'MR RCBV SEQUENCE', '19951017', 'sRCBV_reg'),\n",
       "  ('PGBM-003', 'MR RCBV SEQUENCE', '19951017', 'nCBF_reg'),\n",
       "  ('PGBM-003', 'MR RCBV SEQUENCE', '19951017', 'dT1'),\n",
       "  ('PGBM-006', 'MR RCBV SEQUENCE', '19961210', 'nCBF_reg'),\n",
       "  ('PGBM-006', 'MR RCBV SEQUENCE', '19961210', 'dT1'),\n",
       "  ('PGBM-006', 'MR RCBV SEQUENCE', '19961210', 'ADC_reg'),\n",
       "  ('PGBM-006', 'MR RCBV SEQUENCE', '19961210', 'sRCBV_reg'),\n",
       "  ('PGBM-006', 'MR RCBV SEQUENCE', '19961210', 'nRCBV_reg'),\n",
       "  ('PGBM-006', 'MR RCBV SEQUENCE', '19970211', 'nCBF_reg'),\n",
       "  ('PGBM-006', 'MR RCBV SEQUENCE', '19970211', 'ADC_reg'),\n",
       "  ('PGBM-006', 'MR RCBV SEQUENCE', '19970211', 'nRCBV_reg'),\n",
       "  ('PGBM-006', 'MR RCBV SEQUENCE', '19970211', 'sRCBV_reg')],\n",
       " '[0.429700, 0.429700]': [('PGBM-008',\n",
       "   'MR RCBV SEQUENCE FH',\n",
       "   '19920331',\n",
       "   'dT1'),\n",
       "  ('PGBM-008', 'MR RCBV SEQUENCE FH', '19920331', 'T1pre_reg'),\n",
       "  ('PGBM-008', 'MR RCBV SEQUENCE FH', '19920331', 'Mask_Tumor'),\n",
       "  ('PGBM-003', 'MR RCBV SEQUENCE', '19951017', 'Mask_Tumor'),\n",
       "  ('PGBM-006', 'MR RCBV SEQUENCE', '19961210', 'Mask_Tumor'),\n",
       "  ('PGBM-006', 'MR RCBV SEQUENCE', '19970211', 'Mask_Tumor')],\n",
       " '[0.687500, 0.687500]': [('PGBM-008',\n",
       "   'FH-HEAD^Brain Protocols',\n",
       "   '19930610',\n",
       "   'Mask_Tumor'),\n",
       "  ('PGBM-001', 'FH-HEAD^Brain Protocols', '19920402', 'Mask_Tumor'),\n",
       "  ('PGBM-001', 'FH-HEAD^Brain Protocols', '19911119', 'T1pre_reg'),\n",
       "  ('PGBM-001', 'FH-HEAD^Brain Protocols', '19911119', 'dT1'),\n",
       "  ('PGBM-001', 'FH-HEAD^Brain Protocols', '19911119', 'Mask_Tumor'),\n",
       "  ('PGBM-003', 'Mr Rcbv Sequence-Fh', '19950329', 'Mask_Tumor')],\n",
       " '[0.68750000000000, 0.68750000000000]': [('PGBM-008',\n",
       "   'FH-HEAD^Brain Protocols',\n",
       "   '19930610',\n",
       "   'ADC_reg'),\n",
       "  ('PGBM-008', 'FH-HEAD^Brain Protocols', '19930610', 'nCBF_reg'),\n",
       "  ('PGBM-008', 'FH-HEAD^Brain Protocols', '19930610', 'sRCBV_reg'),\n",
       "  ('PGBM-008', 'FH-HEAD^Brain Protocols', '19930610', 'dT1'),\n",
       "  ('PGBM-008', 'FH-HEAD^Brain Protocols', '19930610', 'nRCBV_reg'),\n",
       "  ('PGBM-001', 'FH-HEAD^Brain Protocols', '19920402', 'nRCBV_reg'),\n",
       "  ('PGBM-001', 'FH-HEAD^Brain Protocols', '19920402', 'dT1'),\n",
       "  ('PGBM-001', 'FH-HEAD^Brain Protocols', '19920402', 'sRCBV_reg'),\n",
       "  ('PGBM-001', 'FH-HEAD^Brain Protocols', '19920402', 'nCBF_reg'),\n",
       "  ('PGBM-001', 'FH-HEAD^Brain Protocols', '19920402', 'ADC_reg'),\n",
       "  ('PGBM-001', 'FH-HEAD^Brain Protocols', '19911119', 'nCBF_reg'),\n",
       "  ('PGBM-001', 'FH-HEAD^Brain Protocols', '19911119', 'sRCBV_reg'),\n",
       "  ('PGBM-001', 'FH-HEAD^Brain Protocols', '19911119', 'nRCBV_reg'),\n",
       "  ('PGBM-001', 'FH-HEAD^Brain Protocols', '19911119', 'ADC_reg'),\n",
       "  ('PGBM-003', 'Mr Rcbv Sequence-Fh', '19950329', 'dT1'),\n",
       "  ('PGBM-003', 'Mr Rcbv Sequence-Fh', '19950329', 'nCBF_reg'),\n",
       "  ('PGBM-003', 'Mr Rcbv Sequence-Fh', '19950329', 'sRCBV_reg'),\n",
       "  ('PGBM-003', 'Mr Rcbv Sequence-Fh', '19950329', 'ADC_reg'),\n",
       "  ('PGBM-003', 'Mr Rcbv Sequence-Fh', '19950329', 'nRCBV_reg')],\n",
       " '[0.6875, 0.6875]': [('PGBM-008',\n",
       "   'FH-HEAD^Brain Protocols',\n",
       "   '19930610',\n",
       "   'T1pre_reg'),\n",
       "  ('PGBM-008', 'FH-HEAD^Brain Protocols', '19930610', 'T1post'),\n",
       "  ('PGBM-008', 'FH-HEAD^Brain Protocols', '19930610', 'T2_reg'),\n",
       "  ('PGBM-008', 'FH-HEAD^Brain Protocols', '19930610', 'FLAIR_reg'),\n",
       "  ('PGBM-001', 'FH-HEAD^Brain Protocols', '19920402', 'T1post'),\n",
       "  ('PGBM-001', 'FH-HEAD^Brain Protocols', '19920402', 'FLAIR_reg'),\n",
       "  ('PGBM-001', 'FH-HEAD^Brain Protocols', '19920402', 'T1pre_reg'),\n",
       "  ('PGBM-001', 'FH-HEAD^Brain Protocols', '19920402', 'T2_reg'),\n",
       "  ('PGBM-001', 'FH-HEAD^Brain Protocols', '19911119', 'T2_reg'),\n",
       "  ('PGBM-001', 'FH-HEAD^Brain Protocols', '19911119', 'T1post'),\n",
       "  ('PGBM-001', 'FH-HEAD^Brain Protocols', '19911119', 'FLAIR_reg'),\n",
       "  ('PGBM-003', 'Mr Rcbv Sequence-Fh', '19950329', 'T1pre_reg'),\n",
       "  ('PGBM-003', 'Mr Rcbv Sequence-Fh', '19950329', 'FLAIR_reg'),\n",
       "  ('PGBM-003', 'Mr Rcbv Sequence-Fh', '19950329', 'T1post'),\n",
       "  ('PGBM-003', 'Mr Rcbv Sequence-Fh', '19950329', 'T2_reg')]}"
      ]
     },
     "execution_count": 19,
     "metadata": {},
     "output_type": "execute_result"
    }
   ],
   "source": [
    "spc"
   ]
  },
  {
   "cell_type": "markdown",
   "metadata": {},
   "source": [
    "*So looks like there is a slight discrepancy among T1/T2 series. Note to self - make sure to resample if I'm using them.  \n",
    "Also, seems that some sequences have tighter pixels than others. If I'm using those, need to make sure resampling is meaningful*"
   ]
  },
  {
   "cell_type": "markdown",
   "metadata": {},
   "source": [
    "Let's look at in-plane resolution"
   ]
  },
  {
   "cell_type": "code",
   "execution_count": 20,
   "metadata": {
    "scrolled": true
   },
   "outputs": [
    {
     "data": {
      "text/plain": [
       "dict_keys(['(512, 512)', '(320, 280)', '(320, 260)'])"
      ]
     },
     "execution_count": 20,
     "metadata": {},
     "output_type": "execute_result"
    }
   ],
   "source": [
    "res.keys()"
   ]
  },
  {
   "cell_type": "markdown",
   "metadata": {},
   "source": [
    "*Not a lot of variety, but clearly some seq types are high-res, need to see what's up*"
   ]
  },
  {
   "cell_type": "code",
   "execution_count": 21,
   "metadata": {
    "scrolled": false
   },
   "outputs": [
    {
     "data": {
      "text/plain": [
       "{'(512, 512)': [('PGBM-008', 'MR RCBV SEQUENCE FH', '19920331', 'T1post'),\n",
       "  ('PGBM-008', 'MR RCBV SEQUENCE FH', '19920331', 'ADC_reg'),\n",
       "  ('PGBM-008', 'MR RCBV SEQUENCE FH', '19920331', 'T2_reg'),\n",
       "  ('PGBM-008', 'MR RCBV SEQUENCE FH', '19920331', 'dT1'),\n",
       "  ('PGBM-008', 'MR RCBV SEQUENCE FH', '19920331', 'T1pre_reg'),\n",
       "  ('PGBM-008', 'MR RCBV SEQUENCE FH', '19920331', 'nRCBV_reg'),\n",
       "  ('PGBM-008', 'MR RCBV SEQUENCE FH', '19920331', 'nCBF_reg'),\n",
       "  ('PGBM-008', 'MR RCBV SEQUENCE FH', '19920331', 'FLAIR_reg'),\n",
       "  ('PGBM-008', 'MR RCBV SEQUENCE FH', '19920331', 'sRCBV_reg'),\n",
       "  ('PGBM-008', 'MR RCBV SEQUENCE FH', '19920331', 'Mask_Tumor'),\n",
       "  ('PGBM-003', 'MR RCBV SEQUENCE', '19951017', 'ADC_reg'),\n",
       "  ('PGBM-003', 'MR RCBV SEQUENCE', '19951017', 'T1post'),\n",
       "  ('PGBM-003', 'MR RCBV SEQUENCE', '19951017', 'T2_reg'),\n",
       "  ('PGBM-003', 'MR RCBV SEQUENCE', '19951017', 'Mask_Tumor'),\n",
       "  ('PGBM-003', 'MR RCBV SEQUENCE', '19951017', 'nRCBV_reg'),\n",
       "  ('PGBM-003', 'MR RCBV SEQUENCE', '19951017', 'sRCBV_reg'),\n",
       "  ('PGBM-003', 'MR RCBV SEQUENCE', '19951017', 'nCBF_reg'),\n",
       "  ('PGBM-003', 'MR RCBV SEQUENCE', '19951017', 'FLAIR_reg'),\n",
       "  ('PGBM-003', 'MR RCBV SEQUENCE', '19951017', 'dT1'),\n",
       "  ('PGBM-003', 'MR RCBV SEQUENCE', '19951017', 'T1pre_reg'),\n",
       "  ('PGBM-006', 'MR RCBV SEQUENCE', '19961210', 'Mask_Tumor'),\n",
       "  ('PGBM-006', 'MR RCBV SEQUENCE', '19961210', 'T1pre_reg'),\n",
       "  ('PGBM-006', 'MR RCBV SEQUENCE', '19961210', 'nCBF_reg'),\n",
       "  ('PGBM-006', 'MR RCBV SEQUENCE', '19961210', 'T1post'),\n",
       "  ('PGBM-006', 'MR RCBV SEQUENCE', '19961210', 'dT1'),\n",
       "  ('PGBM-006', 'MR RCBV SEQUENCE', '19961210', 'T2_reg'),\n",
       "  ('PGBM-006', 'MR RCBV SEQUENCE', '19961210', 'ADC_reg'),\n",
       "  ('PGBM-006', 'MR RCBV SEQUENCE', '19961210', 'sRCBV_reg'),\n",
       "  ('PGBM-006', 'MR RCBV SEQUENCE', '19961210', 'FLAIR_reg'),\n",
       "  ('PGBM-006', 'MR RCBV SEQUENCE', '19961210', 'nRCBV_reg'),\n",
       "  ('PGBM-006', 'MR RCBV SEQUENCE', '19970211', 'nCBF_reg'),\n",
       "  ('PGBM-006', 'MR RCBV SEQUENCE', '19970211', 'ADC_reg'),\n",
       "  ('PGBM-006', 'MR RCBV SEQUENCE', '19970211', 'nRCBV_reg'),\n",
       "  ('PGBM-006', 'MR RCBV SEQUENCE', '19970211', 'T1pre_reg'),\n",
       "  ('PGBM-006', 'MR RCBV SEQUENCE', '19970211', 'Mask_Tumor'),\n",
       "  ('PGBM-006', 'MR RCBV SEQUENCE', '19970211', 'sRCBV_reg')],\n",
       " '(320, 280)': [('PGBM-008',\n",
       "   'FH-HEAD^Brain Protocols',\n",
       "   '19930610',\n",
       "   'Mask_Tumor'),\n",
       "  ('PGBM-008', 'FH-HEAD^Brain Protocols', '19930610', 'ADC_reg'),\n",
       "  ('PGBM-008', 'FH-HEAD^Brain Protocols', '19930610', 'nCBF_reg'),\n",
       "  ('PGBM-008', 'FH-HEAD^Brain Protocols', '19930610', 'sRCBV_reg'),\n",
       "  ('PGBM-008', 'FH-HEAD^Brain Protocols', '19930610', 'T1pre_reg'),\n",
       "  ('PGBM-008', 'FH-HEAD^Brain Protocols', '19930610', 'T1post'),\n",
       "  ('PGBM-008', 'FH-HEAD^Brain Protocols', '19930610', 'dT1'),\n",
       "  ('PGBM-008', 'FH-HEAD^Brain Protocols', '19930610', 'T2_reg'),\n",
       "  ('PGBM-008', 'FH-HEAD^Brain Protocols', '19930610', 'nRCBV_reg'),\n",
       "  ('PGBM-008', 'FH-HEAD^Brain Protocols', '19930610', 'FLAIR_reg'),\n",
       "  ('PGBM-003', 'Mr Rcbv Sequence-Fh', '19950329', 'Mask_Tumor'),\n",
       "  ('PGBM-003', 'Mr Rcbv Sequence-Fh', '19950329', 'dT1'),\n",
       "  ('PGBM-003', 'Mr Rcbv Sequence-Fh', '19950329', 'T1pre_reg'),\n",
       "  ('PGBM-003', 'Mr Rcbv Sequence-Fh', '19950329', 'nCBF_reg'),\n",
       "  ('PGBM-003', 'Mr Rcbv Sequence-Fh', '19950329', 'FLAIR_reg'),\n",
       "  ('PGBM-003', 'Mr Rcbv Sequence-Fh', '19950329', 'sRCBV_reg'),\n",
       "  ('PGBM-003', 'Mr Rcbv Sequence-Fh', '19950329', 'ADC_reg'),\n",
       "  ('PGBM-003', 'Mr Rcbv Sequence-Fh', '19950329', 'T1post'),\n",
       "  ('PGBM-003', 'Mr Rcbv Sequence-Fh', '19950329', 'nRCBV_reg'),\n",
       "  ('PGBM-003', 'Mr Rcbv Sequence-Fh', '19950329', 'T2_reg')],\n",
       " '(320, 260)': [('PGBM-001', 'FH-HEAD^Brain Protocols', '19920402', 'T1post'),\n",
       "  ('PGBM-001', 'FH-HEAD^Brain Protocols', '19920402', 'Mask_Tumor'),\n",
       "  ('PGBM-001', 'FH-HEAD^Brain Protocols', '19920402', 'FLAIR_reg'),\n",
       "  ('PGBM-001', 'FH-HEAD^Brain Protocols', '19920402', 'nRCBV_reg'),\n",
       "  ('PGBM-001', 'FH-HEAD^Brain Protocols', '19920402', 'dT1'),\n",
       "  ('PGBM-001', 'FH-HEAD^Brain Protocols', '19920402', 'T1pre_reg'),\n",
       "  ('PGBM-001', 'FH-HEAD^Brain Protocols', '19920402', 'sRCBV_reg'),\n",
       "  ('PGBM-001', 'FH-HEAD^Brain Protocols', '19920402', 'nCBF_reg'),\n",
       "  ('PGBM-001', 'FH-HEAD^Brain Protocols', '19920402', 'T2_reg'),\n",
       "  ('PGBM-001', 'FH-HEAD^Brain Protocols', '19920402', 'ADC_reg'),\n",
       "  ('PGBM-001', 'FH-HEAD^Brain Protocols', '19911119', 'nCBF_reg'),\n",
       "  ('PGBM-001', 'FH-HEAD^Brain Protocols', '19911119', 'sRCBV_reg'),\n",
       "  ('PGBM-001', 'FH-HEAD^Brain Protocols', '19911119', 'T2_reg'),\n",
       "  ('PGBM-001', 'FH-HEAD^Brain Protocols', '19911119', 'T1post'),\n",
       "  ('PGBM-001', 'FH-HEAD^Brain Protocols', '19911119', 'FLAIR_reg'),\n",
       "  ('PGBM-001', 'FH-HEAD^Brain Protocols', '19911119', 'nRCBV_reg'),\n",
       "  ('PGBM-001', 'FH-HEAD^Brain Protocols', '19911119', 'ADC_reg'),\n",
       "  ('PGBM-001', 'FH-HEAD^Brain Protocols', '19911119', 'T1pre_reg'),\n",
       "  ('PGBM-001', 'FH-HEAD^Brain Protocols', '19911119', 'dT1'),\n",
       "  ('PGBM-001', 'FH-HEAD^Brain Protocols', '19911119', 'Mask_Tumor')]}"
      ]
     },
     "execution_count": 21,
     "metadata": {},
     "output_type": "execute_result"
    }
   ],
   "source": [
    "res"
   ]
  },
  {
   "cell_type": "markdown",
   "metadata": {},
   "source": [
    "Now let's visualize some of those images and see if the series align with each other"
   ]
  },
  {
   "cell_type": "code",
   "execution_count": 22,
   "metadata": {},
   "outputs": [],
   "source": [
    "# Let's try to see how images from same series stack w each other. We might want to use multiple\n",
    "# input channels for our problem\n",
    "\n",
    "# Remember, though, that we don't have the pixel data? Let's load it properly:\n",
    "\n",
    "seq1 = r\"PGBM-003/10-17-1995-MR RCBV SEQUENCE-57198/34911-T1prereg-46949\"\n",
    "t1_slices = [pydicom.dcmread(os.path.join(path, seq1, f)) for f in os.listdir(os.path.join(path, seq1))]\n",
    "t1_slices.sort(key = lambda inst: int(inst.ImagePositionPatient[2]))\n",
    "\n",
    "seq2 = r\"PGBM-003/10-17-1995-MR RCBV SEQUENCE-57198/36471-FLAIRreg-02052\"\n",
    "flair_slices = [pydicom.dcmread(os.path.join(path, seq2, f)) for f in os.listdir(os.path.join(path, seq2))]\n",
    "flair_slices.sort(key = lambda inst: int(inst.ImagePositionPatient[2]))"
   ]
  },
  {
   "cell_type": "code",
   "execution_count": null,
   "metadata": {
    "scrolled": true
   },
   "outputs": [],
   "source": [
    "# t1_slices[0]"
   ]
  },
  {
   "cell_type": "code",
   "execution_count": null,
   "metadata": {},
   "outputs": [],
   "source": [
    "# flair_slices[0]"
   ]
  },
  {
   "cell_type": "code",
   "execution_count": 23,
   "metadata": {},
   "outputs": [],
   "source": [
    "t1 = np.stack([s.pixel_array for s in t1_slices])\n",
    "flair = np.stack([s.pixel_array for s in flair_slices])"
   ]
  },
  {
   "cell_type": "code",
   "execution_count": 24,
   "metadata": {},
   "outputs": [
    {
     "data": {
      "text/plain": [
       "[[-109.536, -158.482, -59.1396],\n",
       " [-109.536, -157.977, -52.6593],\n",
       " [-109.536, -157.472, -46.179],\n",
       " [-109.536, -156.966, -39.6986],\n",
       " [-109.536, -156.461, -33.2183],\n",
       " [-109.536, -155.956, -26.7379],\n",
       " [-109.536, -155.451, -20.2576],\n",
       " [-109.536, -154.946, -13.7772],\n",
       " [-109.536, -154.441, -7.2969],\n",
       " [-109.536, -153.936, -0.816556],\n",
       " [-109.536, -153.431, 5.66379],\n",
       " [-109.536, -152.926, 12.1441],\n",
       " [-109.536, -152.421, 18.6245],\n",
       " [-109.536, -151.916, 25.1048],\n",
       " [-109.536, -151.41, 31.5852],\n",
       " [-109.536, -150.905, 38.0655],\n",
       " [-109.536, -150.4, 44.5459],\n",
       " [-109.536, -149.895, 51.0262],\n",
       " [-109.536, -149.39, 57.5065],\n",
       " [-109.536, -148.885, 63.9869],\n",
       " [-109.536, -148.38, 70.4672],\n",
       " [-109.536, -147.875, 76.9476],\n",
       " [-109.536, -147.37, 83.4279],\n",
       " [-109.536, -146.865, 89.9083]]"
      ]
     },
     "execution_count": 24,
     "metadata": {},
     "output_type": "execute_result"
    }
   ],
   "source": [
    "[ipp.ImagePositionPatient for ipp in t1_slices]"
   ]
  },
  {
   "cell_type": "code",
   "execution_count": 25,
   "metadata": {
    "scrolled": false
   },
   "outputs": [
    {
     "data": {
      "text/plain": [
       "[[-109.536, -158.482, -59.1396],\n",
       " [-109.536, -157.977, -52.6593],\n",
       " [-109.536, -157.472, -46.179],\n",
       " [-109.536, -156.966, -39.6986],\n",
       " [-109.536, -156.461, -33.2183],\n",
       " [-109.536, -155.956, -26.7379],\n",
       " [-109.536, -155.451, -20.2576],\n",
       " [-109.536, -154.946, -13.7772],\n",
       " [-109.536, -154.441, -7.2969],\n",
       " [-109.536, -153.936, -0.816556],\n",
       " [-109.536, -153.431, 5.66379],\n",
       " [-109.536, -152.926, 12.1441],\n",
       " [-109.536, -152.421, 18.6245],\n",
       " [-109.536, -151.916, 25.1048],\n",
       " [-109.536, -151.41, 31.5852],\n",
       " [-109.536, -150.905, 38.0655],\n",
       " [-109.536, -150.4, 44.5459],\n",
       " [-109.536, -149.895, 51.0262],\n",
       " [-109.536, -149.39, 57.5065],\n",
       " [-109.536, -148.885, 63.9869],\n",
       " [-109.536, -148.38, 70.4672],\n",
       " [-109.536, -147.875, 76.9476],\n",
       " [-109.536, -147.37, 83.4279],\n",
       " [-109.536, -146.865, 89.9083]]"
      ]
     },
     "execution_count": 25,
     "metadata": {},
     "output_type": "execute_result"
    }
   ],
   "source": [
    "[ipp.ImagePositionPatient for ipp in flair_slices]"
   ]
  },
  {
   "cell_type": "code",
   "execution_count": 26,
   "metadata": {},
   "outputs": [
    {
     "data": {
      "text/plain": [
       "array([[0., 0., 0., 0., 0., 0.],\n",
       "       [0., 0., 0., 0., 0., 0.],\n",
       "       [0., 0., 0., 0., 0., 0.],\n",
       "       [0., 0., 0., 0., 0., 0.],\n",
       "       [0., 0., 0., 0., 0., 0.],\n",
       "       [0., 0., 0., 0., 0., 0.],\n",
       "       [0., 0., 0., 0., 0., 0.],\n",
       "       [0., 0., 0., 0., 0., 0.],\n",
       "       [0., 0., 0., 0., 0., 0.],\n",
       "       [0., 0., 0., 0., 0., 0.],\n",
       "       [0., 0., 0., 0., 0., 0.],\n",
       "       [0., 0., 0., 0., 0., 0.],\n",
       "       [0., 0., 0., 0., 0., 0.],\n",
       "       [0., 0., 0., 0., 0., 0.],\n",
       "       [0., 0., 0., 0., 0., 0.],\n",
       "       [0., 0., 0., 0., 0., 0.],\n",
       "       [0., 0., 0., 0., 0., 0.],\n",
       "       [0., 0., 0., 0., 0., 0.],\n",
       "       [0., 0., 0., 0., 0., 0.],\n",
       "       [0., 0., 0., 0., 0., 0.],\n",
       "       [0., 0., 0., 0., 0., 0.],\n",
       "       [0., 0., 0., 0., 0., 0.],\n",
       "       [0., 0., 0., 0., 0., 0.],\n",
       "       [0., 0., 0., 0., 0., 0.]])"
      ]
     },
     "execution_count": 26,
     "metadata": {},
     "output_type": "execute_result"
    }
   ],
   "source": [
    "np.array([ipp.ImageOrientationPatient for ipp in t1_slices]) - np.array([ipp.ImageOrientationPatient for ipp in flair_slices])"
   ]
  },
  {
   "cell_type": "code",
   "execution_count": 27,
   "metadata": {
    "scrolled": true
   },
   "outputs": [
    {
     "data": {
      "text/plain": [
       "(24, 512, 512)"
      ]
     },
     "execution_count": 27,
     "metadata": {},
     "output_type": "execute_result"
    }
   ],
   "source": [
    "t1.shape"
   ]
  },
  {
   "cell_type": "code",
   "execution_count": 28,
   "metadata": {},
   "outputs": [
    {
     "data": {
      "text/plain": [
       "(24, 512, 512)"
      ]
     },
     "execution_count": 28,
     "metadata": {},
     "output_type": "execute_result"
    }
   ],
   "source": [
    "flair.shape"
   ]
  },
  {
   "cell_type": "code",
   "execution_count": 29,
   "metadata": {
    "scrolled": true
   },
   "outputs": [
    {
     "data": {
      "text/plain": [
       "<matplotlib.image.AxesImage at 0x7f55097e8450>"
      ]
     },
     "execution_count": 29,
     "metadata": {},
     "output_type": "execute_result"
    },
    {
     "data": {
      "image/png": "[encoded data removed]",
      "text/plain": [
       "<Figure size 432x288 with 1 Axes>"
      ]
     },
     "metadata": {
      "needs_background": "light"
     },
     "output_type": "display_data"
    }
   ],
   "source": [
    "plt.imshow((flair+1.0*t1)[9,:,:], cmap=\"gray\")"
   ]
  },
  {
   "cell_type": "code",
   "execution_count": 30,
   "metadata": {},
   "outputs": [
    {
     "data": {
      "text/plain": [
       "<matplotlib.image.AxesImage at 0x7f54db2e2690>"
      ]
     },
     "execution_count": 30,
     "metadata": {},
     "output_type": "execute_result"
    },
    {
     "data": {
      "image/png": "[encoded data removed]",
      "text/plain": [
       "<Figure size 432x288 with 1 Axes>"
      ]
     },
     "metadata": {
      "needs_background": "light"
     },
     "output_type": "display_data"
    }
   ],
   "source": [
    "plt.imshow((0.0*flair+t1)[9,:,:], cmap=\"gray\")"
   ]
  },
  {
   "cell_type": "markdown",
   "metadata": {},
   "source": [
    "At this point we could visualize a few more series, and probably run some code to ensure IPP and IOP alignment across all of the dataset. We could maybe load this data in Slicer to get a feel of what we are dealing with, and then start looking at the ground truth and photometrics. \n",
    "\n",
    "However, by going through these simple steps, we already learned the following about our dataset:\n",
    "\n",
    "* We are dealing with MR images\n",
    "* We have data from 4 patients\n",
    "* Each patient has 2 studies representing 2 time points\n",
    "* Each study has between 8 and 10 series, 76 series altogether\n",
    "* In total we have 1794 slices\n",
    "* We have varying pixel spacing, even within same sequence types\n",
    "* We have consistent slice thickness (5mm)\n",
    "* We have low-res slices (older ones) and higher-res slices (newer ones)\n",
    "* Our volumes seem to all be registered together and thus it is safe to just align them. I.e. they could be passed as multi-channel data into our ML algorithms\n",
    "\n",
    "That is a lot! "
   ]
  }
 ],
 "metadata": {
  "kernelspec": {
   "display_name": "Python 3 (ipykernel)",
   "language": "python",
   "name": "python3"
  },
  "language_info": {
   "codemirror_mode": {
    "name": "ipython",
    "version": 3
   },
   "file_extension": ".py",
   "mimetype": "text/x-python",
   "name": "python",
   "nbconvert_exporter": "python",
   "pygments_lexer": "ipython3",
   "version": "3.8.10"
  }
 },
 "nbformat": 4,
 "nbformat_minor": 4
}
