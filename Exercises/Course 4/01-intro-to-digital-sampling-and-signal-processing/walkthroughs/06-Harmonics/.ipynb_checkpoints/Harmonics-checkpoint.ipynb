{
 "cells": [
  {
   "cell_type": "markdown",
   "metadata": {},
   "source": [
    "# Harmonics\n",
    "\n",
    "We have spent a lot of time talking about sinusoids in the previous lessons, but in this lesson, we are going to cover a phenomenon that occurs in real-world signals.\n",
    "\n",
    "Whenever we have a non-sinusoidal periodic signal, we will see periodic spikes in the frequency domain. The first spike will occur at the fundamental frequency, and the following spikes are known as **harmonics**.\n",
    "\n",
    "Let's see this for ourselves."
   ]
  },
  {
   "cell_type": "markdown",
   "metadata": {},
   "source": [
    "## Imports"
   ]
  },
  {
   "cell_type": "code",
   "execution_count": null,
   "metadata": {},
   "outputs": [],
   "source": [
    "import numpy as np\n",
    "from matplotlib import pyplot as plt\n",
    "import mpld3\n",
    "import scipy as sp\n",
    "from scipy import io, signal"
   ]
  },
  {
   "cell_type": "code",
   "execution_count": null,
   "metadata": {},
   "outputs": [],
   "source": [
    "import mpld3\n",
    "mpld3.enable_notebook()"
   ]
  },
  {
   "cell_type": "markdown",
   "metadata": {},
   "source": [
    "Load an accelerometer signal from the wrist while jogging."
   ]
  },
  {
   "cell_type": "code",
   "execution_count": null,
   "metadata": {},
   "outputs": [],
   "source": [
    "sig = sp.io.loadmat(\"DATA_11_TYPE02.mat\")['sig']\n",
    "fs = 125\n",
    "seg = sig[3][9000:10000]\n",
    "seg -= np.mean(seg)"
   ]
  },
  {
   "cell_type": "markdown",
   "metadata": {},
   "source": [
    "And plot it..."
   ]
  },
  {
   "cell_type": "code",
   "execution_count": null,
   "metadata": {},
   "outputs": [],
   "source": [
    "%matplotlib inline"
   ]
  },
  {
   "cell_type": "code",
   "execution_count": null,
   "metadata": {},
   "outputs": [],
   "source": [
    "ts = np.arange(len(seg)) / fs\n",
    "plt.figure(figsize=(12, 8))\n",
    "plt.plot(ts, seg)\n",
    "plt.title('Time domain')\n",
    "plt.xlabel('Time (sec)')"
   ]
  },
  {
   "cell_type": "markdown",
   "metadata": {},
   "source": [
    "And let's look at the Fourier transform..."
   ]
  },
  {
   "cell_type": "code",
   "execution_count": null,
   "metadata": {},
   "outputs": [],
   "source": [
    "nfft = len(seg)\n",
    "fft = np.fft.rfft(seg)\n",
    "freqs = np.fft.rfftfreq(len(seg), 1/fs)"
   ]
  },
  {
   "cell_type": "code",
   "execution_count": null,
   "metadata": {},
   "outputs": [],
   "source": [
    "plt.clf()\n",
    "plt.plot(freqs, np.abs(fft))\n",
    "plt.xticks(np.arange(0, freqs[-1], 2));\n",
    "plt.title('Frequency domain')\n",
    "plt.xlabel('Frequency (Hz)')"
   ]
  },
  {
   "cell_type": "markdown",
   "metadata": {},
   "source": [
    "Lo and behold, we find periodic spikes in the frequency domain!\n",
    "\n",
    "The first one occurs at roughly 1.375 Hz. This is our fundamental frequency."
   ]
  },
  {
   "cell_type": "code",
   "execution_count": null,
   "metadata": {},
   "outputs": [],
   "source": [
    "fundamental = freqs[np.argmax(np.abs(fft[freqs < 2]))]\n",
    "fundamental"
   ]
  },
  {
   "cell_type": "markdown",
   "metadata": {},
   "source": [
    "Let's compute integer multiples of this fundamental frequency and see how well they match up with our spikes."
   ]
  },
  {
   "cell_type": "code",
   "execution_count": null,
   "metadata": {},
   "outputs": [],
   "source": [
    "harmonics = fundamental * np.arange(1, 9)\n",
    "harmonics"
   ]
  },
  {
   "cell_type": "code",
   "execution_count": null,
   "metadata": {},
   "outputs": [],
   "source": [
    "plt.clf()\n",
    "plt.plot(freqs, np.abs(fft))\n",
    "plt.plot(harmonics, np.abs(fft[np.isin(freqs, harmonics)]), 'r.', ms=10)\n",
    "plt.title('Frequency domain')\n",
    "plt.xlabel('Frequency (Hz)')"
   ]
  },
  {
   "cell_type": "markdown",
   "metadata": {},
   "source": [
    "We can see that the other spikes do indeed correspond to harmonic frequencies of the fundamental frequency."
   ]
  },
  {
   "cell_type": "markdown",
   "metadata": {},
   "source": [
    "In fact, if we plot a marker on the original time-domain signal at 1.375 Hz, we can see that it roughly follows the periodicity of that signal or the cadence of the arm swing."
   ]
  },
  {
   "cell_type": "code",
   "execution_count": null,
   "metadata": {},
   "outputs": [],
   "source": [
    "plt.clf()\n",
    "plt.plot(ts, seg)\n",
    "mts = np.mod(ts, 1/1.35)\n",
    "pds = (mts < mts[1]).nonzero()[0]\n",
    "plt.plot(ts[pds], seg[pds], 'r.', ms=15)"
   ]
  },
  {
   "cell_type": "markdown",
   "metadata": {},
   "source": [
    "This phenomenon is important to be aware of as we start to process real world signals. Don't forget that you're no longer dealing with sinusoids."
   ]
  }
 ],
 "metadata": {
  "kernelspec": {
   "display_name": "Python 3 (ipykernel)",
   "language": "python",
   "name": "python3"
  },
  "language_info": {
   "codemirror_mode": {
    "name": "ipython",
    "version": 3
   },
   "file_extension": ".py",
   "mimetype": "text/x-python",
   "name": "python",
   "nbconvert_exporter": "python",
   "pygments_lexer": "ipython3",
   "version": "3.8.10"
  }
 },
 "nbformat": 4,
 "nbformat_minor": 2
}
